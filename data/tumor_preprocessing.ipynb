{
 "cells": [
  {
   "cell_type": "markdown",
   "metadata": {
    "colab_type": "text",
    "id": "view-in-github"
   },
   "source": [
    "<a href=\"https://colab.research.google.com/github/hmsch/porcelan/blob/main/data/tumor_preprocessing.ipynb\" target=\"_parent\"><img src=\"https://colab.research.google.com/assets/colab-badge.svg\" alt=\"Open In Colab\"/></a>"
   ]
  },
  {
   "cell_type": "markdown",
   "metadata": {
    "id": "DJm_TrUF0sLy"
   },
   "source": [
    "# Download data"
   ]
  },
  {
   "cell_type": "code",
   "execution_count": 2,
   "metadata": {
    "colab": {
     "base_uri": "https://localhost:8080/"
    },
    "id": "xB2Mri6jkpMg",
    "outputId": "3dc1290e-68db-4b53-e3c7-ea287a98424c"
   },
   "outputs": [
    {
     "name": "stdout",
     "output_type": "stream",
     "text": [
      "--2024-10-08 12:32:36--  https://zenodo.org/records/5847462/files/KPTracer-Data.tar.gz?download=1\n",
      "Resolving zenodo.org (zenodo.org)... 188.185.79.172, 188.184.103.159, 188.184.98.238, ...\n",
      "Connecting to zenodo.org (zenodo.org)|188.185.79.172|:443... connected.\n",
      "HTTP request sent, awaiting response... 200 OK\n",
      "Length: 1304975216 (1.2G) [application/octet-stream]\n",
      "Saving to: ‘data/KPTracer-Data.tar.gz’\n",
      "\n",
      "data/KPTracer-Data. 100%[===================>]   1.21G  35.0MB/s    in 37s     \n",
      "\n",
      "2024-10-08 12:33:13 (34.0 MB/s) - ‘data/KPTracer-Data.tar.gz’ saved [1304975216/1304975216]\n",
      "\n",
      "KPTracer-Data/\n",
      "KPTracer-Data/plasticity_scores.tsv\n",
      "KPTracer-Data/._.DS_Store\n",
      "KPTracer-Data/.DS_Store\n",
      "KPTracer-Data/trees/\n",
      "KPTracer-Data/._trcr_master.txt\n",
      "KPTracer-Data/trcr_master.txt\n",
      "KPTracer-Data/._README\n",
      "KPTracer-Data/README\n",
      "KPTracer-Data/fitnesses/\n",
      "KPTracer-Data/KPTracer.alleleTable.unfiltered.txt\n",
      "KPTracer-Data/KPTracer.alleleTable.FINAL.txt\n",
      "KPTracer-Data/expression/\n",
      "KPTracer-Data/expansions/\n",
      "KPTracer-Data/tumor_statistics.tsv\n",
      "KPTracer-Data/KPTracer_meta.csv\n",
      "KPTracer-Data/expansions/clonal_expansions.3777_Apc_T4.txt\n",
      "KPTracer-Data/expansions/clonal_expansions.3513_NT_T3.nj.txt\n",
      "KPTracer-Data/expansions/clonal_expansions.3703_NT_T2.nj.txt\n",
      "KPTracer-Data/expansions/clonal_expansions.3457_Apc_T5.txt\n",
      "KPTracer-Data/expansions/clonal_expansions.3457_Apc_T4.txt\n",
      "KPTracer-Data/expansions/clonal_expansions.3724_NT_T1.txt\n",
      "KPTracer-Data/expansions/clonal_expansions.3435_NT_T4.nj.txt\n",
      "KPTracer-Data/expansions/clonal_expansions.3777_Apc_T5.txt\n",
      "KPTracer-Data/expansions/clonal_expansions.3730_NT_T1.txt\n",
      "KPTracer-Data/expansions/clonal_expansions.3465_Lkb1_T1.txt\n",
      "KPTracer-Data/expansions/clonal_expansions.3777_Apc_T6.txt\n",
      "KPTracer-Data/expansions/clonal_expansions.3730_NT_T2.txt\n",
      "KPTracer-Data/expansions/clonal_expansions.3732_Lkb1_T2.txt\n",
      "KPTracer-Data/expansions/clonal_expansions.3460_Lkb1_T1.txt\n",
      "KPTracer-Data/expansions/clonal_expansions.3777_Apc_T2.txt\n",
      "KPTracer-Data/expansions/clonal_expansions.3507_Apc_T1.txt\n",
      "KPTracer-Data/expansions/clonal_expansions.3457_Apc_T2.txt\n",
      "KPTracer-Data/expansions/clonal_expansions.3732_Lkb1_T1.txt\n",
      "KPTracer-Data/expansions/clonal_expansions.3777_Apc_T1.txt\n",
      "KPTracer-Data/expansions/clonal_expansions.3507_Apc_T2.txt\n",
      "KPTracer-Data/expansions/clonal_expansions.3457_Apc_T1.txt\n",
      "KPTracer-Data/expansions/clonal_expansions.3435_NT_T6.nj.txt\n",
      "KPTracer-Data/expansions/clonal_expansions.3703_NT_T2.txt\n",
      "KPTracer-Data/expansions/clonal_expansions.3726_NT_T2.nj.txt\n",
      "KPTracer-Data/expansions/clonal_expansions.3432_NT_T2.nj.txt\n",
      "KPTracer-Data/expansions/clonal_expansions.3513_NT_T3.txt\n",
      "KPTracer-Data/expansions/clonal_expansions.3730_NT_T1.nj.txt\n",
      "KPTracer-Data/expansions/clonal_expansions.3513_NT_T2.txt\n",
      "KPTracer-Data/expansions/clonal_expansions.3513_NT_T5.nj.txt\n",
      "KPTracer-Data/expansions/clonal_expansions.3454_Lkb1_T1.txt\n",
      "KPTracer-Data/expansions/clonal_expansions.3430_NT_T2.txt\n",
      "KPTracer-Data/expansions/clonal_expansions.3458_Apc_T1.txt\n",
      "KPTracer-Data/expansions/clonal_expansions.3508_Apc_T2.txt\n",
      "KPTracer-Data/expansions/clonal_expansions.3466_Lkb1_T1.txt\n",
      "KPTracer-Data/expansions/clonal_expansions.3520_NT_T1.txt\n",
      "KPTracer-Data/expansions/clonal_expansions.3454_Lkb1_T2.txt\n",
      "KPTracer-Data/expansions/clonal_expansions.3513_NT_T5.txt\n",
      "KPTracer-Data/expansions/clonal_expansions.3724_NT_T1.nj.txt\n",
      "KPTracer-Data/expansions/clonal_expansions.3458_Apc_T2.txt\n",
      "KPTracer-Data/expansions/clonal_expansions.3433_NT_T2.nj.txt\n",
      "KPTracer-Data/expansions/clonal_expansions.3508_Apc_T1.txt\n",
      "KPTracer-Data/expansions/clonal_expansions.3466_Lkb1_T2.txt\n",
      "KPTracer-Data/expansions/clonal_expansions.3434_NT_T2.nj.txt\n",
      "KPTracer-Data/expansions/clonal_expansions.3513_NT_T4.txt\n",
      "KPTracer-Data/expansions/clonal_expansions.3454_Lkb1_T3.txt\n",
      "KPTracer-Data/expansions/clonal_expansions.3726_NT_T1.txt\n",
      "KPTracer-Data/expansions/clonal_expansions.3435_NT_T3.txt\n",
      "KPTracer-Data/expansions/clonal_expansions.3726_NT_T2.txt\n",
      "KPTracer-Data/expansions/clonal_expansions.3726_NT_T1.nj.txt\n",
      "KPTracer-Data/expansions/clonal_expansions.3435_NT_T1.txt\n",
      "KPTracer-Data/expansions/clonal_expansions.3513_NT_T2.nj.txt\n",
      "KPTracer-Data/expansions/clonal_expansions.3435_NT_T4.txt\n",
      "KPTracer-Data/expansions/clonal_expansions.3464_Lkb1_T1.txt\n",
      "KPTracer-Data/expansions/clonal_expansions.3433_NT_T2.txt\n",
      "KPTracer-Data/expansions/clonal_expansions.3430_NT_T2.nj.txt\n",
      "KPTracer-Data/expansions/clonal_expansions.3435_NT_T6.txt\n",
      "KPTracer-Data/expansions/clonal_expansions.3505_Lkb1_T2.txt\n",
      "KPTracer-Data/expansions/clonal_expansions.3434_NT_T2.txt\n",
      "KPTracer-Data/expansions/clonal_expansions.3765_Apc_T1.txt\n",
      "KPTracer-Data/expansions/clonal_expansions.3513_NT_T4.nj.txt\n",
      "KPTracer-Data/expansions/clonal_expansions.3522_Apc_T2.txt\n",
      "KPTracer-Data/expansions/clonal_expansions.3435_NT_T3.nj.txt\n",
      "KPTracer-Data/expansions/clonal_expansions.3520_NT_T1.nj.txt\n",
      "KPTracer-Data/expansions/clonal_expansions.3434_NT_T3.txt\n",
      "KPTracer-Data/expansions/clonal_expansions.3519_Lkb1_T2.txt\n",
      "KPTracer-Data/expansions/clonal_expansions.3505_Lkb1_T3.txt\n",
      "KPTracer-Data/expansions/clonal_expansions.3522_Apc_T1.txt\n",
      "KPTracer-Data/expansions/clonal_expansions.3519_Lkb1_T1.txt\n",
      "KPTracer-Data/expansions/clonal_expansions.3434_NT_T3.nj.txt\n",
      "KPTracer-Data/expansions/clonal_expansions.3510_Apc_T1.txt\n",
      "KPTracer-Data/expansions/clonal_expansions.3515_Lkb1_T3.txt\n",
      "KPTracer-Data/expansions/clonal_expansions.3515_Lkb1_T2.txt\n",
      "KPTracer-Data/expansions/clonal_expansions.3432_NT_T2.txt\n",
      "KPTracer-Data/expansions/clonal_expansions.3510_Apc_T2.txt\n",
      "KPTracer-Data/expansions/clonal_expansions.3730_NT_T2.nj.txt\n",
      "KPTracer-Data/expansions/clonal_expansions.3515_Lkb1_T1.txt\n",
      "KPTracer-Data/expansions/clonal_expansions.3432_NT_T1.txt\n",
      "KPTracer-Data/expansions/clonal_expansions.3435_NT_T1.nj.txt\n",
      "KPTracer-Data/expansions/clonal_expansions.3510_Apc_T3.txt\n",
      "KPTracer-Data/expansions/clonal_expansions.3432_NT_T1.nj.txt\n",
      "KPTracer-Data/expression/._.DS_Store\n",
      "KPTracer-Data/expression/.DS_Store\n",
      "KPTracer-Data/expression/majority_vote.down_genes.sgNT.txt\n",
      "KPTracer-Data/expression/adata_processed.nt.h5ad\n",
      "KPTracer-Data/expression/majority_vote.up_genes.sgNT.txt\n",
      "KPTracer-Data/expression/adata_processed.combined.h5ad\n",
      "KPTracer-Data/fitnesses/mean_fitness.3703_NT_T2.txt\n",
      "KPTracer-Data/fitnesses/mean_fitness.3458_Apc_T2.txt\n",
      "KPTracer-Data/fitnesses/mean_fitness.3454_Lkb1_T2.txt\n",
      "KPTracer-Data/fitnesses/mean_fitness.3466_Lkb1_T2.txt\n",
      "KPTracer-Data/fitnesses/mean_fitness.3730_NT_T2.txt\n",
      "KPTracer-Data/fitnesses/mean_fitness.3454_Lkb1_T3.txt\n",
      "KPTracer-Data/fitnesses/mean_fitness.3508_Apc_T1.txt\n",
      "KPTracer-Data/fitnesses/mean_fitness.3458_Apc_T1.txt\n",
      "KPTracer-Data/fitnesses/mean_fitness.3454_Lkb1_T1.txt\n",
      "KPTracer-Data/fitnesses/mean_fitness.3466_Lkb1_T1.txt\n",
      "KPTracer-Data/fitnesses/mean_fitness.3730_NT_T1.txt\n",
      "KPTracer-Data/fitnesses/mean_fitness.3724_NT_T1.txt\n",
      "KPTracer-Data/fitnesses/mean_fitness.3508_Apc_T2.txt\n",
      "KPTracer-Data/fitnesses/mean_fitness.3465_Lkb1_T1.txt\n",
      "KPTracer-Data/fitnesses/mean_fitness.3513_NT_T5.txt\n",
      "KPTracer-Data/fitnesses/mean_fitness.3513_NT_T4.txt\n",
      "KPTracer-Data/fitnesses/mean_fitness.3777_Apc_T6.txt\n",
      "KPTracer-Data/fitnesses/mean_fitness.3457_Apc_T5.txt\n",
      "KPTracer-Data/fitnesses/mean_fitness.3777_Apc_T4.txt\n",
      "KPTracer-Data/fitnesses/mean_fitness.3430_NT_T2.txt\n",
      "KPTracer-Data/fitnesses/mean_fitness.3520_NT_T1.txt\n",
      "KPTracer-Data/fitnesses/mean_fitness.3777_Apc_T5.txt\n",
      "KPTracer-Data/fitnesses/mean_fitness.3457_Apc_T4.txt\n",
      "KPTracer-Data/fitnesses/mean_fitness.3732_Lkb1_T1.txt\n",
      "KPTracer-Data/fitnesses/mean_fitness.3507_Apc_T2.txt\n",
      "KPTracer-Data/fitnesses/mean_fitness.3777_Apc_T1.txt\n",
      "KPTracer-Data/fitnesses/mean_fitness.3513_NT_T3.txt\n",
      "KPTracer-Data/fitnesses/mean_fitness.3513_NT_T2.txt\n",
      "KPTracer-Data/fitnesses/mean_fitness.3457_Apc_T1.txt\n",
      "KPTracer-Data/fitnesses/mean_fitness.3460_Lkb1_T1.txt\n",
      "KPTracer-Data/fitnesses/mean_fitness.3732_Lkb1_T2.txt\n",
      "KPTracer-Data/fitnesses/mean_fitness.3507_Apc_T1.txt\n",
      "KPTracer-Data/fitnesses/mean_fitness.3777_Apc_T2.txt\n",
      "KPTracer-Data/fitnesses/mean_fitness.3457_Apc_T2.txt\n",
      "KPTracer-Data/fitnesses/mean_fitness.3522_Apc_T1.txt\n",
      "KPTracer-Data/fitnesses/mean_fitness.3467_Lkb1_T1.txt\n",
      "KPTracer-Data/fitnesses/mean_fitness.3519_Lkb1_T1.txt\n",
      "KPTracer-Data/fitnesses/mean_fitness.3435_NT_T6.txt\n",
      "KPTracer-Data/fitnesses/mean_fitness.3522_Apc_T2.txt\n",
      "KPTracer-Data/fitnesses/mean_fitness.3435_NT_T4.txt\n",
      "KPTracer-Data/fitnesses/mean_fitness.3505_Lkb1_T2.txt\n",
      "KPTracer-Data/fitnesses/mean_fitness.3467_Lkb1_T2.txt\n",
      "KPTracer-Data/fitnesses/mean_fitness.3765_Apc_T1.txt\n",
      "KPTracer-Data/fitnesses/mean_fitness.3433_NT_T2.txt\n",
      "KPTracer-Data/fitnesses/mean_fitness.3519_Lkb1_T2.txt\n",
      "KPTracer-Data/fitnesses/mean_fitness.3505_Lkb1_T3.txt\n",
      "KPTracer-Data/fitnesses/mean_fitness.3435_NT_T1.txt\n",
      "KPTracer-Data/fitnesses/mean_fitness.3726_NT_T2.txt\n",
      "KPTracer-Data/fitnesses/mean_fitness.3510_Apc_T2.txt\n",
      "KPTracer-Data/fitnesses/mean_fitness.3515_Lkb1_T1.txt\n",
      "KPTracer-Data/fitnesses/mean_fitness.3510_Apc_T3.txt\n",
      "KPTracer-Data/fitnesses/mean_fitness.3726_NT_T1.txt\n",
      "KPTracer-Data/fitnesses/mean_fitness.3510_Apc_T1.txt\n",
      "KPTracer-Data/fitnesses/mean_fitness.3515_Lkb1_T3.txt\n",
      "KPTracer-Data/fitnesses/mean_fitness.3515_Lkb1_T2.txt\n",
      "KPTracer-Data/fitnesses/mean_fitness.3435_NT_T3.txt\n",
      "KPTracer-Data/fitnesses/mean_fitness.3432_NT_T1.txt\n",
      "KPTracer-Data/fitnesses/mean_fitness.3432_NT_T2.txt\n",
      "KPTracer-Data/fitnesses/mean_fitness.3434_NT_T2.txt\n",
      "KPTracer-Data/fitnesses/mean_fitness.3434_NT_T3.txt\n",
      "KPTracer-Data/fitnesses/mean_fitness.3464_Lkb1_T1.txt\n",
      "KPTracer-Data/trees/3732_Lkb1_T2_tree.nwk\n",
      "KPTracer-Data/trees/3510_Apc_T3_character_matrix.txt\n",
      "KPTracer-Data/trees/3513_NT_T3_character_matrix.txt\n",
      "KPTracer-Data/trees/3454_Lkb1_All_character_matrix.txt\n",
      "KPTracer-Data/trees/3458_Apc_T1_tree.nwk\n",
      "KPTracer-Data/trees/3460_Lkb1_T1_tree.nwk\n",
      "KPTracer-Data/trees/3513_NT_T3_priors.pkl\n",
      "KPTracer-Data/trees/3513_NT_T5_tree.nwk\n",
      "KPTracer-Data/trees/3513_NT_T4_tree.nwk\n",
      "KPTracer-Data/trees/3454_Lkb1_T1_character_matrix.txt\n",
      "KPTracer-Data/trees/3467_Lkb1_T2_priors.pkl\n",
      "KPTracer-Data/trees/3433_NT_T2_priors.pkl\n",
      "KPTracer-Data/trees/3457_Apc_T2_character_matrix.txt\n",
      "KPTracer-Data/trees/3777_Apc_T6_priors.pkl\n",
      "KPTracer-Data/trees/3435_NT_T3_priors.pkl\n",
      "KPTracer-Data/trees/3434_NT_T1_priors.pkl\n",
      "KPTracer-Data/trees/3510_Apc_T3_priors.pkl\n",
      "KPTracer-Data/trees/3466_Lkb1_T1_priors.pkl\n",
      "KPTracer-Data/trees/3730_NT_T1_priors.pkl\n",
      "KPTracer-Data/trees/3507_Apc_T2_character_matrix.txt\n",
      "KPTracer-Data/trees/3465_Lkb1_T1_character_matrix.txt\n",
      "KPTracer-Data/trees/3507_Apc_T2_priors.pkl\n",
      "KPTracer-Data/trees/3505_Lkb1_T3_priors.pkl\n",
      "KPTracer-Data/trees/3466_Lkb1_T2_tree.nwk\n",
      "KPTracer-Data/trees/3457_Apc_T4_Fam_tree.nwk\n",
      "KPTracer-Data/trees/3519_Lkb1_T3_character_matrix.txt\n",
      "KPTracer-Data/trees/3724_NT_T1_priors.pkl\n",
      "KPTracer-Data/trees/3435_NT_T3_character_matrix.txt\n",
      "KPTracer-Data/trees/3457_Apc_T1_tree.nwk\n",
      "KPTracer-Data/trees/3515_Lkb1_T3_priors.pkl\n",
      "KPTracer-Data/trees/3435_NT_T6_tree.nwk\n",
      "KPTracer-Data/trees/3433_NT_T2_character_matrix.txt\n",
      "KPTracer-Data/trees/3435_NT_T6_character_matrix.txt\n",
      "KPTracer-Data/trees/3515_Lkb1_All_character_matrix.txt\n",
      "KPTracer-Data/trees/3430_NT_T1_tree.nwk\n",
      "KPTracer-Data/trees/3703_NT_T1_character_matrix.txt\n",
      "KPTracer-Data/trees/3434_NT_T2_character_matrix.txt\n",
      "KPTracer-Data/trees/3522_Apc_T1_tree.nwk\n",
      "KPTracer-Data/trees/3508_Apc_All_tree.nwk\n",
      "KPTracer-Data/trees/3513_NT_T1_Fam_priors.pkl\n",
      "KPTracer-Data/trees/3457_Apc_T5_priors.pkl\n",
      "KPTracer-Data/trees/3460_Lkb1_T1_Fam_tree.nwk\n",
      "KPTracer-Data/trees/3451_Lkb1_T1_tree.nwk\n",
      "KPTracer-Data/trees/3703_NT_T1_tree.nwk\n",
      "KPTracer-Data/trees/3467_Lkb1_T2_character_matrix.txt\n",
      "KPTracer-Data/trees/3508_Apc_All_character_matrix.txt\n",
      "KPTracer-Data/trees/3454_Lkb1_T2_priors.pkl\n",
      "KPTracer-Data/trees/3726_NT_T2_tree.nwk\n",
      "KPTracer-Data/trees/3457_Apc_T4_Fam_character_matrix.txt\n",
      "KPTracer-Data/trees/3458_Apc_T2_character_matrix.txt\n",
      "KPTracer-Data/trees/3508_Apc_T2_character_matrix.txt\n",
      "KPTracer-Data/trees/3520_NT_T1_tree.nwk\n",
      "KPTracer-Data/trees/3777_Apc_T2_character_matrix.txt\n",
      "KPTracer-Data/trees/3430_NT_T1_priors.pkl\n",
      "KPTracer-Data/trees/3732_Lkb1_T2_character_matrix.txt\n",
      "KPTracer-Data/trees/3777_Apc_T4_tree.nwk\n",
      "KPTracer-Data/trees/3465_Lkb1_T1_priors.pkl\n",
      "KPTracer-Data/trees/3519_Lkb1_T1_tree.nwk\n",
      "KPTracer-Data/trees/3777_Apc_T5_tree.nwk\n",
      "KPTracer-Data/trees/3466_Lkb1_T1_character_matrix.txt\n",
      "KPTracer-Data/trees/3724_NT_All_priors.pkl\n",
      "KPTracer-Data/trees/3522_Apc_T1_character_matrix.txt\n",
      "KPTracer-Data/trees/3458_Apc_T1_priors.pkl\n",
      "KPTracer-Data/trees/3510_Apc_T1_tree.nwk\n",
      "KPTracer-Data/trees/3505_Lkb1_T1_character_matrix.txt\n",
      "KPTracer-Data/trees/3522_Apc_T1_priors.pkl\n",
      "KPTracer-Data/trees/3464_Lkb1_T1_tree.nwk\n",
      "KPTracer-Data/trees/3435_NT_T6_priors.pkl\n",
      "KPTracer-Data/trees/3434_NT_T1_tree.nwk\n",
      "KPTracer-Data/trees/3777_Apc_T4_priors.pkl\n",
      "KPTracer-Data/trees/3435_NT_T1_priors.pkl\n",
      "KPTracer-Data/trees/3519_Lkb1_T2_character_matrix.txt\n",
      "KPTracer-Data/trees/3513_NT_All_priors.pkl\n",
      "KPTracer-Data/trees/3510_Apc_T1_priors.pkl\n",
      "KPTracer-Data/trees/3434_NT_T3_priors.pkl\n",
      "KPTracer-Data/trees/3432_NT_T2_priors.pkl\n",
      "KPTracer-Data/trees/3454_Lkb1_All_priors.pkl\n",
      "KPTracer-Data/trees/3513_NT_T1_priors.pkl\n",
      "KPTracer-Data/trees/3430_NT_T1_character_matrix.txt\n",
      "KPTracer-Data/trees/3507_Apc_T1_tree.nwk\n",
      "KPTracer-Data/trees/3515_Lkb1_T1_priors.pkl\n",
      "KPTracer-Data/trees/3703_NT_T2_priors.pkl\n",
      "KPTracer-Data/trees/3515_Lkb1_All_tree.nwk\n",
      "KPTracer-Data/trees/3460_Lkb1_T1_character_matrix.txt\n",
      "KPTracer-Data/trees/3777_Apc_T2_tree.nwk\n",
      "KPTracer-Data/trees/3457_Apc_T2_priors.pkl\n",
      "KPTracer-Data/trees/3508_Apc_T1_tree.nwk\n",
      "KPTracer-Data/trees/3457_Apc_T1_Fam_character_matrix.txt\n",
      "KPTracer-Data/trees/3519_Lkb1_T1_Fam_tree.nwk\n",
      "KPTracer-Data/trees/3513_NT_T2_character_matrix.txt\n",
      "KPTracer-Data/trees/3519_Lkb1_T2_priors.pkl\n",
      "KPTracer-Data/trees/3510_Apc_T2_character_matrix.txt\n",
      "KPTracer-Data/trees/3505_Lkb1_T2_tree.nwk\n",
      "KPTracer-Data/trees/3505_Lkb1_T3_tree.nwk\n",
      "KPTracer-Data/trees/3505_Lkb1_T1_priors.pkl\n",
      "KPTracer-Data/trees/3451_Lkb1_T1_character_matrix.txt\n",
      "KPTracer-Data/trees/3724_NT_All_tree.nwk\n",
      "KPTracer-Data/trees/3467_Lkb1_T2_tree.nwk\n",
      "KPTracer-Data/trees/3454_Lkb1_T1_tree.nwk\n",
      "KPTracer-Data/trees/3457_Apc_T3_character_matrix.txt\n",
      "KPTracer-Data/trees/3451_Lkb1_T2_priors.pkl\n",
      "KPTracer-Data/trees/3515_Lkb1_T1_character_matrix.txt\n",
      "KPTracer-Data/trees/3765_Apc_T1_tree.nwk\n",
      "KPTracer-Data/trees/3513_NT_T2_tree.nwk\n",
      "KPTracer-Data/trees/3513_NT_T3_tree.nwk\n",
      "KPTracer-Data/trees/3726_NT_T2_priors.pkl\n",
      "KPTracer-Data/trees/tumor_list.txt\n",
      "KPTracer-Data/trees/3432_NT_T1_tree.nwk\n",
      "KPTracer-Data/trees/3777_Apc_T6_character_matrix.txt\n",
      "KPTracer-Data/trees/3465_Lkb1_T1_tree.nwk\n",
      "KPTracer-Data/trees/3434_NT_T3_character_matrix.txt\n",
      "KPTracer-Data/trees/3726_NT_T1_character_matrix.txt\n",
      "KPTracer-Data/trees/3732_Lkb1_T1_priors.pkl\n",
      "KPTracer-Data/trees/3777_Apc_T1_priors.pkl\n",
      "KPTracer-Data/trees/3435_NT_T4_priors.pkl\n",
      "KPTracer-Data/trees/3508_Apc_T1_priors.pkl\n",
      "KPTracer-Data/trees/3460_Lkb1_T1_priors.pkl\n",
      "KPTracer-Data/trees/3513_NT_T4_priors.pkl\n",
      "KPTracer-Data/trees/3515_Lkb1_T3_tree.nwk\n",
      "KPTracer-Data/trees/3515_Lkb1_T2_tree.nwk\n",
      "KPTracer-Data/trees/3435_NT_T1_tree.nwk\n",
      "KPTracer-Data/trees/3730_NT_T1_character_matrix.txt\n",
      "KPTracer-Data/trees/3730_NT_T2_tree.nwk\n",
      "KPTracer-Data/trees/3432_NT_T2_character_matrix.txt\n",
      "KPTracer-Data/trees/3765_Apc_T1_character_matrix.txt\n",
      "KPTracer-Data/trees/3726_NT_T1_tree.nwk\n",
      "KPTracer-Data/trees/3508_Apc_T2_Fam_character_matrix.txt\n",
      "KPTracer-Data/trees/3730_NT_T2_character_matrix.txt\n",
      "KPTracer-Data/trees/3460_Lkb1_T1_Fam_character_matrix.txt\n",
      "KPTracer-Data/trees/3432_NT_T1_character_matrix.txt\n",
      "KPTracer-Data/trees/3519_Lkb1_T3_tree.nwk\n",
      "KPTracer-Data/trees/3519_Lkb1_T2_tree.nwk\n",
      "KPTracer-Data/trees/3777_Apc_T6_tree.nwk\n",
      "KPTracer-Data/trees/3515_Lkb1_All_priors.pkl\n",
      "KPTracer-Data/trees/3726_NT_T2_character_matrix.txt\n",
      "KPTracer-Data/trees/3703_NT_T3_character_matrix.txt\n",
      "KPTracer-Data/trees/3454_Lkb1_T3_priors.pkl\n",
      "KPTracer-Data/trees/3726_NT_T1_priors.pkl\n",
      "KPTracer-Data/trees/3451_Lkb1_T1_priors.pkl\n",
      "KPTracer-Data/trees/3510_Apc_T3_tree.nwk\n",
      "KPTracer-Data/trees/3510_Apc_T2_tree.nwk\n",
      "KPTracer-Data/trees/3457_Apc_T4_priors.pkl\n",
      "KPTracer-Data/trees/3777_Apc_T5_character_matrix.txt\n",
      "KPTracer-Data/trees/3505_Lkb1_T3_character_matrix.txt\n",
      "KPTracer-Data/trees/3460_Lkb1_T2_priors.pkl\n",
      "KPTracer-Data/trees/3508_Apc_T2_priors.pkl\n",
      "KPTracer-Data/trees/3522_Apc_T2_tree.nwk\n",
      "KPTracer-Data/trees/3732_Lkb1_T2_priors.pkl\n",
      "KPTracer-Data/trees/3777_Apc_T2_priors.pkl\n",
      "KPTracer-Data/trees/3515_Lkb1_T2_character_matrix.txt\n",
      "KPTracer-Data/trees/3451_Lkb1_T3_tree.nwk\n",
      "KPTracer-Data/trees/3451_Lkb1_T2_tree.nwk\n",
      "KPTracer-Data/trees/3703_NT_T2_tree.nwk\n",
      "KPTracer-Data/trees/3703_NT_T3_tree.nwk\n",
      "KPTracer-Data/trees/3513_NT_T2_priors.pkl\n",
      "KPTracer-Data/trees/3466_Lkb1_T1_tree.nwk\n",
      "KPTracer-Data/trees/3513_NT_T4_character_matrix.txt\n",
      "KPTracer-Data/trees/3451_Lkb1_T2_character_matrix.txt\n",
      "KPTracer-Data/trees/3515_Lkb1_T1_Fam_priors.pkl\n",
      "KPTracer-Data/trees/3513_NT_T1_Fam_character_matrix.txt\n",
      "KPTracer-Data/trees/3510_Apc_T2_priors.pkl\n",
      "KPTracer-Data/trees/3454_Lkb1_T3_character_matrix.txt\n",
      "KPTracer-Data/trees/3457_Apc_T3_tree.nwk\n",
      "KPTracer-Data/trees/3457_Apc_T2_tree.nwk\n",
      "KPTracer-Data/trees/3435_NT_T4_tree.nwk\n",
      "KPTracer-Data/trees/3432_NT_T1_priors.pkl\n",
      "KPTracer-Data/trees/3460_Lkb1_T2_character_matrix.txt\n",
      "KPTracer-Data/trees/3457_Apc_T5_character_matrix.txt\n",
      "KPTracer-Data/trees/3510_Apc_T1_character_matrix.txt\n",
      "KPTracer-Data/trees/3430_NT_T2_tree.nwk\n",
      "KPTracer-Data/trees/3513_NT_T1_character_matrix.txt\n",
      "KPTracer-Data/trees/3457_Apc_T1_Fam_priors.pkl\n",
      "KPTracer-Data/trees/3732_Lkb1_T1_tree.nwk\n",
      "KPTracer-Data/trees/3458_Apc_T2_tree.nwk\n",
      "KPTracer-Data/trees/3435_NT_T4_character_matrix.txt\n",
      "KPTracer-Data/trees/3515_Lkb1_T1_Fam_tree.nwk\n",
      "KPTracer-Data/trees/3519_Lkb1_All_tree.nwk\n",
      "KPTracer-Data/trees/3430_NT_T2_character_matrix.txt\n",
      "KPTracer-Data/trees/3460_Lkb1_T2_tree.nwk\n",
      "KPTracer-Data/trees/3505_Lkb1_T2_priors.pkl\n",
      "KPTracer-Data/trees/3435_NT_T1_character_matrix.txt\n",
      "KPTracer-Data/trees/3519_Lkb1_T1_character_matrix.txt\n",
      "KPTracer-Data/trees/3457_Apc_T1_priors.pkl\n",
      "KPTracer-Data/trees/3724_NT_T1_character_matrix.txt\n",
      "KPTracer-Data/trees/3519_Lkb1_T1_priors.pkl\n",
      "KPTracer-Data/trees/3515_Lkb1_T2_priors.pkl\n",
      "KPTracer-Data/trees/3703_NT_T1_priors.pkl\n",
      "KPTracer-Data/trees/3466_Lkb1_T2_character_matrix.txt\n",
      "KPTracer-Data/trees/3513_NT_Mets_priors.pkl\n",
      "KPTracer-Data/trees/3522_Apc_T2_character_matrix.txt\n",
      "KPTracer-Data/trees/3454_Lkb1_T1_priors.pkl\n",
      "KPTracer-Data/trees/3451_Lkb1_T3_priors.pkl\n",
      "KPTracer-Data/trees/neighbor_joining/\n",
      "KPTracer-Data/trees/3505_Lkb1_T2_character_matrix.txt\n",
      "KPTracer-Data/trees/3777_Apc_T4_character_matrix.txt\n",
      "KPTracer-Data/trees/3458_Apc_T1_character_matrix.txt\n",
      "KPTracer-Data/trees/3457_Apc_T4_tree.nwk\n",
      "KPTracer-Data/trees/3460_Lkb1_T1_Fam_priors.pkl\n",
      "KPTracer-Data/trees/3515_Lkb1_T1_tree.nwk\n",
      "KPTracer-Data/trees/3457_Apc_T5_tree.nwk\n",
      "KPTracer-Data/trees/3435_NT_T3_tree.nwk\n",
      "KPTracer-Data/trees/3730_NT_T1_tree.nwk\n",
      "KPTracer-Data/trees/3508_Apc_T1_character_matrix.txt\n",
      "KPTracer-Data/trees/3519_Lkb1_T1_Fam_priors.pkl\n",
      "KPTracer-Data/trees/3777_Apc_T1_character_matrix.txt\n",
      "KPTracer-Data/trees/3732_Lkb1_T1_character_matrix.txt\n",
      "KPTracer-Data/trees/3508_Apc_T2_Fam_tree.nwk\n",
      "KPTracer-Data/trees/3515_Lkb1_T3_character_matrix.txt\n",
      "KPTracer-Data/trees/3458_Apc_T2_priors.pkl\n",
      "KPTracer-Data/trees/3522_Apc_T2_priors.pkl\n",
      "KPTracer-Data/trees/3467_Lkb1_T1_character_matrix.txt\n",
      "KPTracer-Data/trees/3457_Apc_T4_Fam_priors.pkl\n",
      "KPTracer-Data/trees/3513_NT_T1_tree.nwk\n",
      "KPTracer-Data/trees/3515_Lkb1_T1_Fam_character_matrix.txt\n",
      "KPTracer-Data/trees/3432_NT_T2_tree.nwk\n",
      "KPTracer-Data/trees/3430_NT_T2_priors.pkl\n",
      "KPTracer-Data/trees/3703_NT_T2_character_matrix.txt\n",
      "KPTracer-Data/trees/3765_Apc_T1_priors.pkl\n",
      "KPTracer-Data/trees/3434_NT_T1_character_matrix.txt\n",
      "KPTracer-Data/trees/3513_NT_T5_priors.pkl\n",
      "KPTracer-Data/trees/3464_Lkb1_T1_priors.pkl\n",
      "KPTracer-Data/trees/3454_Lkb1_All_tree.nwk\n",
      "KPTracer-Data/trees/3724_NT_All_character_matrix.txt\n",
      "KPTracer-Data/trees/3513_NT_T1_Fam_tree.nwk\n",
      "KPTracer-Data/trees/3508_Apc_T2_Fam_priors.pkl\n",
      "KPTracer-Data/trees/3434_NT_T2_priors.pkl\n",
      "KPTracer-Data/trees/3730_NT_T2_priors.pkl\n",
      "KPTracer-Data/trees/3466_Lkb1_T2_priors.pkl\n",
      "KPTracer-Data/trees/3464_Lkb1_T1_character_matrix.txt\n",
      "KPTracer-Data/trees/3433_NT_T2_tree.nwk\n",
      "KPTracer-Data/trees/3508_Apc_All_priors.pkl\n",
      "KPTracer-Data/trees/3777_Apc_T1_tree.nwk\n",
      "KPTracer-Data/trees/3467_Lkb1_T1_priors.pkl\n",
      "KPTracer-Data/trees/3777_Apc_T5_priors.pkl\n",
      "KPTracer-Data/trees/3508_Apc_T2_tree.nwk\n",
      "KPTracer-Data/trees/3505_Lkb1_T1_tree.nwk\n",
      "KPTracer-Data/trees/3467_Lkb1_T1_tree.nwk\n",
      "KPTracer-Data/trees/3519_Lkb1_All_character_matrix.txt\n",
      "KPTracer-Data/trees/3454_Lkb1_T2_tree.nwk\n",
      "KPTracer-Data/trees/3454_Lkb1_T3_tree.nwk\n",
      "KPTracer-Data/trees/3434_NT_T2_tree.nwk\n",
      "KPTracer-Data/trees/3434_NT_T3_tree.nwk\n",
      "KPTracer-Data/trees/3520_NT_T1_character_matrix.txt\n",
      "KPTracer-Data/trees/3457_Apc_T1_character_matrix.txt\n",
      "KPTracer-Data/trees/3457_Apc_T3_priors.pkl\n",
      "KPTracer-Data/trees/3519_Lkb1_T3_priors.pkl\n",
      "KPTracer-Data/trees/3451_Lkb1_T3_character_matrix.txt\n",
      "KPTracer-Data/trees/3513_NT_T5_character_matrix.txt\n",
      "KPTracer-Data/trees/3507_Apc_T1_character_matrix.txt\n",
      "KPTracer-Data/trees/3724_NT_T1_tree.nwk\n",
      "KPTracer-Data/trees/3457_Apc_T1_Fam_tree.nwk\n",
      "KPTracer-Data/trees/3703_NT_T3_priors.pkl\n",
      "KPTracer-Data/trees/3457_Apc_T4_character_matrix.txt\n",
      "KPTracer-Data/trees/3507_Apc_T2_tree.nwk\n",
      "KPTracer-Data/trees/3520_NT_T1_priors.pkl\n",
      "KPTracer-Data/trees/3519_Lkb1_All_priors.pkl\n",
      "KPTracer-Data/trees/3507_Apc_T1_priors.pkl\n",
      "KPTracer-Data/trees/3519_Lkb1_T1_Fam_character_matrix.txt\n",
      "KPTracer-Data/trees/3454_Lkb1_T2_character_matrix.txt\n",
      "KPTracer-Data/trees/neighbor_joining/3510_Apc_T2_tree_nj.processed.tree\n",
      "KPTracer-Data/trees/neighbor_joining/3464_Lkb1_T1_tree_nj.processed.tree\n",
      "KPTracer-Data/trees/neighbor_joining/3730_NT_T1_tree_nj.processed.tree\n",
      "KPTracer-Data/trees/neighbor_joining/3726_NT_T2_tree_nj.processed.tree\n",
      "KPTracer-Data/trees/neighbor_joining/3432_NT_T1_tree_nj.processed.tree\n",
      "KPTracer-Data/trees/neighbor_joining/3457_Apc_T4_tree_nj.processed.tree\n",
      "KPTracer-Data/trees/neighbor_joining/3519_Lkb1_T3_tree_nj.processed.tree\n",
      "KPTracer-Data/trees/neighbor_joining/3513_NT_T1_tree_nj.processed.tree\n",
      "KPTracer-Data/trees/neighbor_joining/3515_Lkb1_T3_tree_nj.processed.tree\n",
      "KPTracer-Data/trees/neighbor_joining/3457_Apc_T3_tree_nj.processed.tree\n",
      "KPTracer-Data/trees/neighbor_joining/3513_NT_All_tree_nj.processed.tree\n",
      "KPTracer-Data/trees/neighbor_joining/3434_NT_T3_tree_nj.processed.tree\n",
      "KPTracer-Data/trees/neighbor_joining/3454_Lkb1_T3_tree_nj.processed.tree\n",
      "KPTracer-Data/trees/neighbor_joining/3513_NT_T2_tree_nj.processed.tree\n",
      "KPTracer-Data/trees/neighbor_joining/3454_Lkb1_All_tree_nj.processed.tree\n",
      "KPTracer-Data/trees/neighbor_joining/3726_NT_T1_tree_nj.processed.tree\n",
      "KPTracer-Data/trees/neighbor_joining/3432_NT_T2_tree_nj.processed.tree\n",
      "KPTracer-Data/trees/neighbor_joining/3730_NT_T2_tree_nj.processed.tree\n",
      "KPTracer-Data/trees/neighbor_joining/3510_Apc_T1_tree_nj.processed.tree\n",
      "KPTracer-Data/trees/neighbor_joining/3513_NT_T5_tree_nj.processed.tree\n",
      "KPTracer-Data/trees/neighbor_joining/3513_NT_T4_tree_nj.processed.tree\n",
      "KPTracer-Data/trees/neighbor_joining/3458_Apc_T1_tree_nj.processed.tree\n",
      "KPTracer-Data/trees/neighbor_joining/3519_Lkb1_All_tree_nj.processed.tree\n",
      "KPTracer-Data/trees/neighbor_joining/3519_Lkb1_T1_tree_nj.processed.tree\n",
      "KPTracer-Data/trees/neighbor_joining/3465_Lkb1_T1_tree_nj.processed.tree\n",
      "KPTracer-Data/trees/neighbor_joining/3508_Apc_T1_tree_nj.processed.tree\n",
      "KPTracer-Data/trees/neighbor_joining/3732_Lkb1_T2_tree_nj.processed.tree\n",
      "KPTracer-Data/trees/neighbor_joining/3457_Apc_T1_tree_nj.processed.tree\n",
      "KPTracer-Data/trees/neighbor_joining/3513_NT_T3_tree_nj.processed.tree\n",
      "KPTracer-Data/trees/neighbor_joining/3515_Lkb1_T1_tree_nj.processed.tree\n",
      "KPTracer-Data/trees/neighbor_joining/3522_Apc_T1_tree_nj.processed.tree\n",
      "KPTracer-Data/trees/neighbor_joining/3454_Lkb1_T2_tree_nj.processed.tree\n",
      "KPTracer-Data/trees/neighbor_joining/3765_Apc_T1_tree_nj.processed.tree\n",
      "KPTracer-Data/trees/neighbor_joining/3724_NT_All_tree_nj.processed.tree\n",
      "KPTracer-Data/trees/neighbor_joining/3507_Apc_T1_tree_nj.processed.tree\n",
      "KPTracer-Data/trees/neighbor_joining/3434_NT_T2_tree_nj.processed.tree\n",
      "KPTracer-Data/trees/neighbor_joining/3454_Lkb1_T1_tree_nj.processed.tree\n",
      "KPTracer-Data/trees/neighbor_joining/3522_Apc_T2_tree_nj.processed.tree\n",
      "KPTracer-Data/trees/neighbor_joining/3515_Lkb1_T2_tree_nj.processed.tree\n",
      "KPTracer-Data/trees/neighbor_joining/3457_Apc_T2_tree_nj.processed.tree\n",
      "KPTracer-Data/trees/neighbor_joining/3434_NT_T1_tree_nj.processed.tree\n",
      "KPTracer-Data/trees/neighbor_joining/3507_Apc_T2_tree_nj.processed.tree\n",
      "KPTracer-Data/trees/neighbor_joining/3519_Lkb1_T2_tree_nj.processed.tree\n",
      "KPTracer-Data/trees/neighbor_joining/3458_Apc_T2_tree_nj.processed.tree\n",
      "KPTracer-Data/trees/neighbor_joining/3508_Apc_T2_tree_nj.processed.tree\n",
      "KPTracer-Data/trees/neighbor_joining/3732_Lkb1_T1_tree_nj.processed.tree\n",
      "KPTracer-Data/trees/neighbor_joining/3510_Apc_T3_tree_nj.processed.tree\n",
      "KPTracer-Data/trees/neighbor_joining/3460_Lkb1_T1_Fam_tree_nj.processed.tree\n",
      "KPTracer-Data/trees/neighbor_joining/3451_Lkb1_T2_tree_nj.processed.tree\n",
      "KPTracer-Data/trees/neighbor_joining/3777_Apc_T5_tree_nj.processed.tree\n",
      "KPTracer-Data/trees/neighbor_joining/3435_NT_T1_tree_nj.processed.tree\n",
      "KPTracer-Data/trees/neighbor_joining/3505_Lkb1_T1_tree_nj.processed.tree\n",
      "KPTracer-Data/trees/neighbor_joining/3777_Apc_T2_tree_nj.processed.tree\n",
      "KPTracer-Data/trees/neighbor_joining/3435_NT_T6_tree_nj.processed.tree\n",
      "KPTracer-Data/trees/neighbor_joining/3466_Lkb1_T1_tree_nj.processed.tree\n",
      "KPTracer-Data/trees/neighbor_joining/3703_NT_T3_tree_nj.processed.tree\n",
      "KPTracer-Data/trees/neighbor_joining/3515_Lkb1_T1_Fam_tree_nj.processed.tree\n",
      "KPTracer-Data/trees/neighbor_joining/3513_NT_Mets_tree_nj.processed.tree\n",
      "KPTracer-Data/trees/neighbor_joining/3460_Lkb1_T1_tree_nj.processed.tree\n",
      "KPTracer-Data/trees/neighbor_joining/3466_Lkb1_T2_tree_nj.processed.tree\n",
      "KPTracer-Data/trees/neighbor_joining/3508_Apc_T2_Fam_tree_nj.processed.tree\n",
      "KPTracer-Data/trees/neighbor_joining/3777_Apc_T1_tree_nj.processed.tree\n",
      "KPTracer-Data/trees/neighbor_joining/3460_Lkb1_T2_tree_nj.processed.tree\n",
      "KPTracer-Data/trees/neighbor_joining/3515_Lkb1_All_tree_nj.processed.tree\n",
      "KPTracer-Data/trees/neighbor_joining/3451_Lkb1_T1_tree_nj.processed.tree\n",
      "KPTracer-Data/trees/neighbor_joining/3777_Apc_T6_tree_nj.processed.tree\n",
      "KPTracer-Data/trees/neighbor_joining/3505_Lkb1_T2_tree_nj.processed.tree\n",
      "KPTracer-Data/trees/neighbor_joining/3505_Lkb1_T3_tree_nj.processed.tree\n",
      "KPTracer-Data/trees/neighbor_joining/3520_NT_T1_tree_nj.processed.tree\n",
      "KPTracer-Data/trees/neighbor_joining/3435_NT_T3_tree_nj.processed.tree\n",
      "KPTracer-Data/trees/neighbor_joining/3703_NT_T1_tree_nj.processed.tree\n",
      "KPTracer-Data/trees/neighbor_joining/3467_Lkb1_T1_tree_nj.processed.tree\n",
      "KPTracer-Data/trees/neighbor_joining/3513_NT_T1_Fam_tree_nj.processed.tree\n",
      "KPTracer-Data/trees/neighbor_joining/3433_NT_T2_tree_nj.processed.tree\n",
      "KPTracer-Data/trees/neighbor_joining/3430_NT_T1_tree_nj.processed.tree\n",
      "KPTracer-Data/trees/neighbor_joining/3435_NT_T4_tree_nj.processed.tree\n",
      "KPTracer-Data/trees/neighbor_joining/3519_Lkb1_T1_Fam_tree_nj.processed.tree\n",
      "KPTracer-Data/trees/neighbor_joining/3703_NT_T2_tree_nj.processed.tree\n",
      "KPTracer-Data/trees/neighbor_joining/3430_NT_T2_tree_nj.processed.tree\n",
      "KPTracer-Data/trees/neighbor_joining/3724_NT_T1_tree_nj.processed.tree\n",
      "KPTracer-Data/trees/neighbor_joining/3467_Lkb1_T2_tree_nj.processed.tree\n",
      "KPTracer-Data/trees/neighbor_joining/3508_Apc_All_tree_nj.processed.tree\n",
      "KPTracer-Data/trees/neighbor_joining/3777_Apc_T4_tree_nj.processed.tree\n",
      "KPTracer-Data/trees/neighbor_joining/3451_Lkb1_T3_tree_nj.processed.tree\n"
     ]
    }
   ],
   "source": [
    "!wget 'https://zenodo.org/records/5847462/files/KPTracer-Data.tar.gz?download=1' -O data/KPTracer-Data.tar.gz\n",
    "!tar -xvzf data/KPTracer-Data.tar.gz -C data/\n",
    "!rm data/KPTracer-Data.tar.gz"
   ]
  },
  {
   "cell_type": "markdown",
   "metadata": {
    "id": "4vr2zx8O0xVz"
   },
   "source": [
    "# Imports & read data"
   ]
  },
  {
   "cell_type": "code",
   "execution_count": 1,
   "metadata": {
    "colab": {
     "base_uri": "https://localhost:8080/",
     "height": 600
    },
    "id": "EBhu5336iwWT",
    "outputId": "3b14285a-de36-4a74-8634-32faca37fe07"
   },
   "outputs": [
    {
     "data": {
      "text/html": [
       "<div>\n",
       "<style scoped>\n",
       "    .dataframe tbody tr th:only-of-type {\n",
       "        vertical-align: middle;\n",
       "    }\n",
       "\n",
       "    .dataframe tbody tr th {\n",
       "        vertical-align: top;\n",
       "    }\n",
       "\n",
       "    .dataframe thead th {\n",
       "        text-align: right;\n",
       "    }\n",
       "</style>\n",
       "<table border=\"1\" class=\"dataframe\">\n",
       "  <thead>\n",
       "    <tr style=\"text-align: right;\">\n",
       "      <th></th>\n",
       "      <th>Unnamed: 0</th>\n",
       "      <th>TS_Present</th>\n",
       "      <th>RNA_Present</th>\n",
       "      <th>MULTI</th>\n",
       "      <th>TS_UMI</th>\n",
       "      <th>NUM_INTBC</th>\n",
       "      <th>Lane</th>\n",
       "      <th>Tumor</th>\n",
       "      <th>SubTumor</th>\n",
       "      <th>ES_clone</th>\n",
       "      <th>...</th>\n",
       "      <th>Mouse</th>\n",
       "      <th>Aging_Month</th>\n",
       "      <th>Batch_Library</th>\n",
       "      <th>Batch_Harvest</th>\n",
       "      <th>Aging_Time</th>\n",
       "      <th>MetFamily</th>\n",
       "      <th>lentiBC</th>\n",
       "      <th>is_normal</th>\n",
       "      <th>PercentUncut</th>\n",
       "      <th>annotated_normal_rna</th>\n",
       "    </tr>\n",
       "  </thead>\n",
       "  <tbody>\n",
       "    <tr>\n",
       "      <th>0</th>\n",
       "      <td>L10.AAACCTGAGACGCAAC-1</td>\n",
       "      <td>True</td>\n",
       "      <td>True</td>\n",
       "      <td>ATCTCGGA</td>\n",
       "      <td>522.0</td>\n",
       "      <td>9.0</td>\n",
       "      <td>L10</td>\n",
       "      <td>3724_NT_T1</td>\n",
       "      <td>3724_NT_T1_14</td>\n",
       "      <td>2E1</td>\n",
       "      <td>...</td>\n",
       "      <td>3724</td>\n",
       "      <td>6.0</td>\n",
       "      <td>2.0</td>\n",
       "      <td>2_1</td>\n",
       "      <td>184.0</td>\n",
       "      <td>3724_NT_T1</td>\n",
       "      <td>Negative</td>\n",
       "      <td>False</td>\n",
       "      <td>0.074074</td>\n",
       "      <td>False</td>\n",
       "    </tr>\n",
       "    <tr>\n",
       "      <th>1</th>\n",
       "      <td>L10.AAACCTGAGAGTTGGC-1</td>\n",
       "      <td>True</td>\n",
       "      <td>True</td>\n",
       "      <td>ATCTCGGA</td>\n",
       "      <td>346.0</td>\n",
       "      <td>9.0</td>\n",
       "      <td>L10</td>\n",
       "      <td>3724_NT_T1</td>\n",
       "      <td>3724_NT_T1_14</td>\n",
       "      <td>2E1</td>\n",
       "      <td>...</td>\n",
       "      <td>3724</td>\n",
       "      <td>6.0</td>\n",
       "      <td>2.0</td>\n",
       "      <td>2_1</td>\n",
       "      <td>184.0</td>\n",
       "      <td>3724_NT_T1</td>\n",
       "      <td>Negative</td>\n",
       "      <td>False</td>\n",
       "      <td>0.074074</td>\n",
       "      <td>False</td>\n",
       "    </tr>\n",
       "    <tr>\n",
       "      <th>2</th>\n",
       "      <td>L10.AAACCTGAGCTCCTCT-1</td>\n",
       "      <td>True</td>\n",
       "      <td>True</td>\n",
       "      <td>GTCAATCG</td>\n",
       "      <td>349.0</td>\n",
       "      <td>9.0</td>\n",
       "      <td>L10</td>\n",
       "      <td>3724_NT_T1</td>\n",
       "      <td>3724_NT_T1_11</td>\n",
       "      <td>2E1</td>\n",
       "      <td>...</td>\n",
       "      <td>3724</td>\n",
       "      <td>6.0</td>\n",
       "      <td>2.0</td>\n",
       "      <td>2_1</td>\n",
       "      <td>184.0</td>\n",
       "      <td>3724_NT_T1</td>\n",
       "      <td>Negative</td>\n",
       "      <td>False</td>\n",
       "      <td>0.074074</td>\n",
       "      <td>False</td>\n",
       "    </tr>\n",
       "    <tr>\n",
       "      <th>3</th>\n",
       "      <td>L10.AAACCTGAGGCAGGTT-1</td>\n",
       "      <td>True</td>\n",
       "      <td>True</td>\n",
       "      <td>GCCCCGAA</td>\n",
       "      <td>512.0</td>\n",
       "      <td>9.0</td>\n",
       "      <td>L10</td>\n",
       "      <td>3724_NT_T1</td>\n",
       "      <td>3724_NT_T1_12</td>\n",
       "      <td>2E1</td>\n",
       "      <td>...</td>\n",
       "      <td>3724</td>\n",
       "      <td>6.0</td>\n",
       "      <td>2.0</td>\n",
       "      <td>2_1</td>\n",
       "      <td>184.0</td>\n",
       "      <td>3724_NT_T1</td>\n",
       "      <td>Negative</td>\n",
       "      <td>False</td>\n",
       "      <td>0.074074</td>\n",
       "      <td>False</td>\n",
       "    </tr>\n",
       "    <tr>\n",
       "      <th>4</th>\n",
       "      <td>L10.AAACCTGAGTACACCT-1</td>\n",
       "      <td>True</td>\n",
       "      <td>True</td>\n",
       "      <td>ATCTCGGA</td>\n",
       "      <td>274.0</td>\n",
       "      <td>9.0</td>\n",
       "      <td>L10</td>\n",
       "      <td>3724_NT_T1</td>\n",
       "      <td>3724_NT_T1_14</td>\n",
       "      <td>2E1</td>\n",
       "      <td>...</td>\n",
       "      <td>3724</td>\n",
       "      <td>6.0</td>\n",
       "      <td>2.0</td>\n",
       "      <td>2_1</td>\n",
       "      <td>184.0</td>\n",
       "      <td>3724_NT_T1</td>\n",
       "      <td>Negative</td>\n",
       "      <td>False</td>\n",
       "      <td>0.074074</td>\n",
       "      <td>False</td>\n",
       "    </tr>\n",
       "    <tr>\n",
       "      <th>...</th>\n",
       "      <td>...</td>\n",
       "      <td>...</td>\n",
       "      <td>...</td>\n",
       "      <td>...</td>\n",
       "      <td>...</td>\n",
       "      <td>...</td>\n",
       "      <td>...</td>\n",
       "      <td>...</td>\n",
       "      <td>...</td>\n",
       "      <td>...</td>\n",
       "      <td>...</td>\n",
       "      <td>...</td>\n",
       "      <td>...</td>\n",
       "      <td>...</td>\n",
       "      <td>...</td>\n",
       "      <td>...</td>\n",
       "      <td>...</td>\n",
       "      <td>...</td>\n",
       "      <td>...</td>\n",
       "      <td>...</td>\n",
       "      <td>...</td>\n",
       "    </tr>\n",
       "    <tr>\n",
       "      <th>106679</th>\n",
       "      <td>L33.TTGAACGTCCTCAATT-1</td>\n",
       "      <td>False</td>\n",
       "      <td>True</td>\n",
       "      <td>GGCCGGTT</td>\n",
       "      <td>0.0</td>\n",
       "      <td>0.0</td>\n",
       "      <td>L33</td>\n",
       "      <td>None</td>\n",
       "      <td>None</td>\n",
       "      <td>2E1</td>\n",
       "      <td>...</td>\n",
       "      <td>3513</td>\n",
       "      <td>6.0</td>\n",
       "      <td>6.0</td>\n",
       "      <td>6_1</td>\n",
       "      <td>181.0</td>\n",
       "      <td>None</td>\n",
       "      <td>Negative</td>\n",
       "      <td>False</td>\n",
       "      <td>NaN</td>\n",
       "      <td>True</td>\n",
       "    </tr>\n",
       "    <tr>\n",
       "      <th>106680</th>\n",
       "      <td>L33.TTGAACGTCTGCTGTC-1</td>\n",
       "      <td>False</td>\n",
       "      <td>True</td>\n",
       "      <td>GGCCGGTT</td>\n",
       "      <td>0.0</td>\n",
       "      <td>0.0</td>\n",
       "      <td>L33</td>\n",
       "      <td>None</td>\n",
       "      <td>None</td>\n",
       "      <td>2E1</td>\n",
       "      <td>...</td>\n",
       "      <td>3513</td>\n",
       "      <td>6.0</td>\n",
       "      <td>6.0</td>\n",
       "      <td>6_1</td>\n",
       "      <td>181.0</td>\n",
       "      <td>None</td>\n",
       "      <td>GGGCATTAGTCCGCGT</td>\n",
       "      <td>False</td>\n",
       "      <td>NaN</td>\n",
       "      <td>True</td>\n",
       "    </tr>\n",
       "    <tr>\n",
       "      <th>106681</th>\n",
       "      <td>L33.TTGGAACAGTGGTAGC-1</td>\n",
       "      <td>False</td>\n",
       "      <td>True</td>\n",
       "      <td>GGCCGGTT</td>\n",
       "      <td>0.0</td>\n",
       "      <td>0.0</td>\n",
       "      <td>L33</td>\n",
       "      <td>None</td>\n",
       "      <td>None</td>\n",
       "      <td>2E1</td>\n",
       "      <td>...</td>\n",
       "      <td>3513</td>\n",
       "      <td>6.0</td>\n",
       "      <td>6.0</td>\n",
       "      <td>6_1</td>\n",
       "      <td>181.0</td>\n",
       "      <td>None</td>\n",
       "      <td>Negative</td>\n",
       "      <td>False</td>\n",
       "      <td>NaN</td>\n",
       "      <td>True</td>\n",
       "    </tr>\n",
       "    <tr>\n",
       "      <th>106682</th>\n",
       "      <td>L33.TTGGCAAAGTATCGAA-1</td>\n",
       "      <td>False</td>\n",
       "      <td>True</td>\n",
       "      <td>GGCCGGTT</td>\n",
       "      <td>0.0</td>\n",
       "      <td>0.0</td>\n",
       "      <td>L33</td>\n",
       "      <td>None</td>\n",
       "      <td>None</td>\n",
       "      <td>2E1</td>\n",
       "      <td>...</td>\n",
       "      <td>3513</td>\n",
       "      <td>6.0</td>\n",
       "      <td>6.0</td>\n",
       "      <td>6_1</td>\n",
       "      <td>181.0</td>\n",
       "      <td>None</td>\n",
       "      <td>None</td>\n",
       "      <td>False</td>\n",
       "      <td>NaN</td>\n",
       "      <td>True</td>\n",
       "    </tr>\n",
       "    <tr>\n",
       "      <th>106683</th>\n",
       "      <td>L33.TTTGGTTTCATGTAGC-1</td>\n",
       "      <td>False</td>\n",
       "      <td>True</td>\n",
       "      <td>GGCCGGTT</td>\n",
       "      <td>0.0</td>\n",
       "      <td>0.0</td>\n",
       "      <td>L33</td>\n",
       "      <td>None</td>\n",
       "      <td>None</td>\n",
       "      <td>2E1</td>\n",
       "      <td>...</td>\n",
       "      <td>3513</td>\n",
       "      <td>6.0</td>\n",
       "      <td>6.0</td>\n",
       "      <td>6_1</td>\n",
       "      <td>181.0</td>\n",
       "      <td>None</td>\n",
       "      <td>None</td>\n",
       "      <td>False</td>\n",
       "      <td>NaN</td>\n",
       "      <td>True</td>\n",
       "    </tr>\n",
       "  </tbody>\n",
       "</table>\n",
       "<p>106684 rows × 21 columns</p>\n",
       "</div>"
      ],
      "text/plain": [
       "                    Unnamed: 0  TS_Present  RNA_Present     MULTI  TS_UMI  \\\n",
       "0       L10.AAACCTGAGACGCAAC-1        True         True  ATCTCGGA   522.0   \n",
       "1       L10.AAACCTGAGAGTTGGC-1        True         True  ATCTCGGA   346.0   \n",
       "2       L10.AAACCTGAGCTCCTCT-1        True         True  GTCAATCG   349.0   \n",
       "3       L10.AAACCTGAGGCAGGTT-1        True         True  GCCCCGAA   512.0   \n",
       "4       L10.AAACCTGAGTACACCT-1        True         True  ATCTCGGA   274.0   \n",
       "...                        ...         ...          ...       ...     ...   \n",
       "106679  L33.TTGAACGTCCTCAATT-1       False         True  GGCCGGTT     0.0   \n",
       "106680  L33.TTGAACGTCTGCTGTC-1       False         True  GGCCGGTT     0.0   \n",
       "106681  L33.TTGGAACAGTGGTAGC-1       False         True  GGCCGGTT     0.0   \n",
       "106682  L33.TTGGCAAAGTATCGAA-1       False         True  GGCCGGTT     0.0   \n",
       "106683  L33.TTTGGTTTCATGTAGC-1       False         True  GGCCGGTT     0.0   \n",
       "\n",
       "        NUM_INTBC Lane       Tumor       SubTumor ES_clone  ... Mouse  \\\n",
       "0             9.0  L10  3724_NT_T1  3724_NT_T1_14      2E1  ...  3724   \n",
       "1             9.0  L10  3724_NT_T1  3724_NT_T1_14      2E1  ...  3724   \n",
       "2             9.0  L10  3724_NT_T1  3724_NT_T1_11      2E1  ...  3724   \n",
       "3             9.0  L10  3724_NT_T1  3724_NT_T1_12      2E1  ...  3724   \n",
       "4             9.0  L10  3724_NT_T1  3724_NT_T1_14      2E1  ...  3724   \n",
       "...           ...  ...         ...            ...      ...  ...   ...   \n",
       "106679        0.0  L33        None           None      2E1  ...  3513   \n",
       "106680        0.0  L33        None           None      2E1  ...  3513   \n",
       "106681        0.0  L33        None           None      2E1  ...  3513   \n",
       "106682        0.0  L33        None           None      2E1  ...  3513   \n",
       "106683        0.0  L33        None           None      2E1  ...  3513   \n",
       "\n",
       "        Aging_Month  Batch_Library  Batch_Harvest Aging_Time   MetFamily  \\\n",
       "0               6.0            2.0            2_1      184.0  3724_NT_T1   \n",
       "1               6.0            2.0            2_1      184.0  3724_NT_T1   \n",
       "2               6.0            2.0            2_1      184.0  3724_NT_T1   \n",
       "3               6.0            2.0            2_1      184.0  3724_NT_T1   \n",
       "4               6.0            2.0            2_1      184.0  3724_NT_T1   \n",
       "...             ...            ...            ...        ...         ...   \n",
       "106679          6.0            6.0            6_1      181.0        None   \n",
       "106680          6.0            6.0            6_1      181.0        None   \n",
       "106681          6.0            6.0            6_1      181.0        None   \n",
       "106682          6.0            6.0            6_1      181.0        None   \n",
       "106683          6.0            6.0            6_1      181.0        None   \n",
       "\n",
       "                 lentiBC is_normal  PercentUncut  annotated_normal_rna  \n",
       "0               Negative     False      0.074074                 False  \n",
       "1               Negative     False      0.074074                 False  \n",
       "2               Negative     False      0.074074                 False  \n",
       "3               Negative     False      0.074074                 False  \n",
       "4               Negative     False      0.074074                 False  \n",
       "...                  ...       ...           ...                   ...  \n",
       "106679          Negative     False           NaN                  True  \n",
       "106680  GGGCATTAGTCCGCGT     False           NaN                  True  \n",
       "106681          Negative     False           NaN                  True  \n",
       "106682              None     False           NaN                  True  \n",
       "106683              None     False           NaN                  True  \n",
       "\n",
       "[106684 rows x 21 columns]"
      ]
     },
     "execution_count": 1,
     "metadata": {},
     "output_type": "execute_result"
    }
   ],
   "source": [
    "import pandas as pd\n",
    "import numpy as np\n",
    "import dendropy\n",
    "import scanpy\n",
    "from statsmodels.nonparametric.smoothers_lowess import lowess\n",
    "import matplotlib.pyplot as plt\n",
    "\n",
    "from tree_util import get_apn_dist_triplet_lut, dist_matrix_to_numpy\n",
    "\n",
    "data_path = './data'\n",
    "meta_df = pd.read_csv(f'{data_path}/KPTracer-Data/KPTracer_meta.csv')\n",
    "meta_df"
   ]
  },
  {
   "cell_type": "code",
   "execution_count": 2,
   "metadata": {
    "colab": {
     "base_uri": "https://localhost:8080/"
    },
    "id": "lqh6322CrXXQ",
    "outputId": "11cb6dbb-beab-4593-ecfd-1f7efe5f3357"
   },
   "outputs": [
    {
     "data": {
      "text/plain": [
       "AnnData object with n_obs × n_vars = 104197 × 4000\n",
       "    obs: 'TS_Present', 'RNA_Present', 'MULTI', 'TS_UMI', 'NUM_INTBC', 'Lane', 'Tumor', 'SubTumor', 'ES_clone', 'genotype', 'Aging_time', 'Mouse', 'Aging_Month', 'Batch_Library', 'Batch_Harvest', 'Aging_Time', 'MetFamily', 'lentiBC', 'LentiFiltered', 'is_normal', 'PercentUncut', 'n_genes_by_counts', 'total_counts', 'total_counts_mt', 'pct_counts_mt', 'n_genes', 'Cluster', 'Cluster-Name'\n",
       "    var: 'gene_ids', 'mt', 'n_cells_by_counts', 'mean_counts', 'pct_dropout_by_counts', 'total_counts', 'highly_variable', 'highly_variable_rank', 'means', 'variances', 'variances_norm', 'highly_variable_nbatches'\n",
       "    uns: 'Batch_Library_colors', 'C_scANVI_colors', 'Cluster-Name_colors', 'Cluster_colors', 'Combined_Clusters_colors', 'Mouse_colors', 'NT_leiden_colors', '_scvi', 'genotype_colors', 'hvg', 'leiden', 'leiden_0.2_colors', 'leiden_0.4_colors', 'leiden_0.6_colors', 'leiden_0.8_colors', 'leiden_1.0_colors', 'leiden_1.5_colors', 'neighbors', 'umap'\n",
       "    obsm: 'X_scANVI', 'X_scVI', 'X_umap'\n",
       "    layers: 'counts'\n",
       "    obsp: 'connectivities', 'distances'"
      ]
     },
     "execution_count": 2,
     "metadata": {},
     "output_type": "execute_result"
    }
   ],
   "source": [
    "adata = scanpy.read_h5ad(f'{data_path}/KPTracer-Data/expression/adata_processed.combined.h5ad')\n",
    "adata"
   ]
  },
  {
   "cell_type": "markdown",
   "metadata": {
    "id": "-7f3HwCzG7QE"
   },
   "source": [
    "# Tumor 3435_NT_T1"
   ]
  },
  {
   "cell_type": "code",
   "execution_count": 2,
   "metadata": {
    "id": "X1-n0hS-rlfV"
   },
   "outputs": [],
   "source": [
    "name = '3435_NT_T1'"
   ]
  },
  {
   "cell_type": "markdown",
   "metadata": {
    "id": "8-fSAG_8wHpQ"
   },
   "source": [
    "## Prune tree"
   ]
  },
  {
   "cell_type": "code",
   "execution_count": 4,
   "metadata": {
    "colab": {
     "base_uri": "https://localhost:8080/"
    },
    "id": "pgSjUV-o4vKW",
    "outputId": "04281a6d-352c-470e-a380-dbc052c63059"
   },
   "outputs": [
    {
     "name": "stdout",
     "output_type": "stream",
     "text": [
      "height: 21.0\n"
     ]
    }
   ],
   "source": [
    "tree = dendropy.Tree.get(path=f'{data_path}/KPTracer-Data/trees/{name}_tree.nwk', schema='newick')\n",
    "for edge in tree.edges():\n",
    "  edge.length = 1\n",
    "print('height:', tree.max_distance_from_root())"
   ]
  },
  {
   "cell_type": "code",
   "execution_count": 5,
   "metadata": {
    "colab": {
     "base_uri": "https://localhost:8080/"
    },
    "id": "5lmePHjvG7QR",
    "outputId": "0acaf8f8-fb0a-44ce-94b1-6fdaab0c95f1"
   },
   "outputs": [
    {
     "data": {
      "text/plain": [
       "0"
      ]
     },
     "execution_count": 5,
     "metadata": {},
     "output_type": "execute_result"
    }
   ],
   "source": [
    "tumor_meta = meta_df[(meta_df['Tumor'] == name) & meta_df['TS_Present'] & meta_df['RNA_Present']]\n",
    "tumor_adata = adata[adata.obs['Tumor'] == name]\n",
    "(tumor_meta['Unnamed: 0'].value_counts() != 1).sum()  # check that cells are unique"
   ]
  },
  {
   "cell_type": "code",
   "execution_count": 6,
   "metadata": {
    "colab": {
     "base_uri": "https://localhost:8080/"
    },
    "id": "65P72DA5pS2f",
    "outputId": "2a300896-fd97-4a93-8e4c-6ea3a32c82b3"
   },
   "outputs": [
    {
     "name": "stdout",
     "output_type": "stream",
     "text": [
      "1124 1149 1438\n",
      "meta but not tree (vice versa):  25 ( 0 )\n",
      "tree but not adata (vice versa):  12 ( 326 )\n",
      "meta but not adata (vice versa):  37 ( 326 )\n",
      "intersection:  1112\n"
     ]
    }
   ],
   "source": [
    "# find intersection of cells in both modalities\n",
    "tree_cells = set([c.taxon.label for c in tree.leaf_nodes()])\n",
    "meta_cells = set(tumor_meta['Unnamed: 0'])\n",
    "adata_cells = set(tumor_adata.obs.index)\n",
    "print(len(tree_cells), len(meta_cells), len(adata_cells))\n",
    "print('meta but not tree (vice versa): ', len(meta_cells - tree_cells), '(', len(tree_cells - meta_cells), ')')\n",
    "print('tree but not adata (vice versa): ', len(tree_cells - adata_cells), '(', len(adata_cells - tree_cells), ')')\n",
    "print('meta but not adata (vice versa): ', len(meta_cells - adata_cells), '(', len(adata_cells - meta_cells), ')')\n",
    "\n",
    "intersect_cells = meta_cells\n",
    "intersect_cells -= intersect_cells - tree_cells\n",
    "intersect_cells -= intersect_cells - adata_cells\n",
    "print('intersection: ', len(intersect_cells))"
   ]
  },
  {
   "cell_type": "code",
   "execution_count": 7,
   "metadata": {
    "colab": {
     "base_uri": "https://localhost:8080/"
    },
    "id": "RviSo5ywG7QT",
    "outputId": "1747d71c-e333-4aa4-80ab-a3d996398c29"
   },
   "outputs": [
    {
     "name": "stdout",
     "output_type": "stream",
     "text": [
      "height: 17.0\n",
      "leaves: 1112\n"
     ]
    }
   ],
   "source": [
    "# prune tree\n",
    "tree.retain_taxa_with_labels(intersect_cells, suppress_unifurcations=True)\n",
    "for edge in tree.edges():\n",
    "  # set edge lengths to 1 again as we deleted some degree 1 nodes\n",
    "  edge.length = 1\n",
    "print('height:', tree.max_distance_from_root())\n",
    "print('leaves:', len(tree.leaf_nodes()))\n",
    "tree.write(path=f'{data_path}/preprocessed/{name}_pruned.nwk', schema='newick')"
   ]
  },
  {
   "cell_type": "code",
   "execution_count": 8,
   "metadata": {
    "colab": {
     "base_uri": "https://localhost:8080/"
    },
    "id": "7BvPYfeJG7QU",
    "outputId": "3bbb1cce-e944-4ab1-fdba-8b7b25648f85"
   },
   "outputs": [
    {
     "data": {
      "text/plain": [
       "(array([ 0,  2,  3,  4,  5,  6,  7,  8,  9, 10, 11, 12, 17]),\n",
       " array([1112,  624,   98,   27,   14,    5,    3,    2,    4,    2,    2,\n",
       "           1,    1]))"
      ]
     },
     "execution_count": 8,
     "metadata": {},
     "output_type": "execute_result"
    }
   ],
   "source": [
    "# get degrees of nodes:\n",
    "np.unique(list(map(lambda x: x.num_child_nodes(), tree.nodes())), return_counts=True)"
   ]
  },
  {
   "cell_type": "markdown",
   "metadata": {
    "id": "ZwUOttNDwNUa"
   },
   "source": [
    "## Gene expression pre-processing"
   ]
  },
  {
   "cell_type": "code",
   "execution_count": 9,
   "metadata": {
    "colab": {
     "base_uri": "https://localhost:8080/"
    },
    "id": "ADR1_z-qr4-M",
    "outputId": "a5db9680-0037-441b-9cf3-90890d8171e4"
   },
   "outputs": [
    {
     "name": "stdout",
     "output_type": "stream",
     "text": [
      "(1112, 4000)\n",
      "genes expressed in 10 or more cells: 714\n",
      "(1112, 714)\n"
     ]
    }
   ],
   "source": [
    "pruned_adata = tumor_adata[tumor_adata.obs.index.isin(intersect_cells)]\n",
    "print(pruned_adata.X.shape)\n",
    "\n",
    "# remove rare genes\n",
    "keep = np.array((pruned_adata.X > 0).sum(axis=0) >= 10).flatten()\n",
    "print('genes expressed in 10 or more cells:', np.sum(keep))\n",
    "gene_names = adata.var_names[keep]\n",
    "gene_counts = pruned_adata.X[:, keep].toarray()\n",
    "print(gene_counts.shape)\n",
    "\n",
    "# L1 normalization on cells to [0, 10000]\n",
    "cell_sums = gene_counts.sum(axis=1)\n",
    "gene_counts[cell_sums > 0] = gene_counts[cell_sums > 0] / cell_sums[cell_sums > 0].reshape(-1, 1)\n",
    "gene_counts *= 10000\n",
    "# log2(1 + x) tranform\n",
    "gene_counts = np.log2(1 + gene_counts)"
   ]
  },
  {
   "cell_type": "code",
   "execution_count": 10,
   "metadata": {
    "id": "RdxUy4Uqs4lO"
   },
   "outputs": [],
   "source": [
    "# index is cell names\n",
    "pd.DataFrame(pruned_adata.obs.index).to_csv(f'{data_path}/preprocessed/{name}_cells.txt', index=False, columns=[0], header=False)"
   ]
  },
  {
   "cell_type": "code",
   "execution_count": 11,
   "metadata": {
    "id": "IjmP2DAszWmR"
   },
   "outputs": [],
   "source": [
    "df = pd.DataFrame(gene_counts)\n",
    "df.columns = gene_names\n",
    "df.to_csv(f'{data_path}/preprocessed/{name}_normalized_log_counts.txt', index=False)"
   ]
  },
  {
   "cell_type": "markdown",
   "metadata": {
    "id": "XMj3zqLXw-lS"
   },
   "source": [
    "### Highly variable genes"
   ]
  },
  {
   "cell_type": "code",
   "execution_count": 12,
   "metadata": {
    "colab": {
     "base_uri": "https://localhost:8080/",
     "height": 1000
    },
    "id": "w9ivg_j08Q1e",
    "outputId": "925fc4e7-3fd0-44f8-8acf-f531e331dc0e"
   },
   "outputs": [
    {
     "name": "stdout",
     "output_type": "stream",
     "text": [
      "values to clip: 0\n"
     ]
    },
    {
     "name": "stderr",
     "output_type": "stream",
     "text": [
      "/tmp/ipykernel_3893707/4156051735.py:14: RuntimeWarning: invalid value encountered in sqrt\n",
      "  adj_gene_counts = (gene_counts - gene_counts.mean(axis=0)) / np.sqrt(gene_stats['pred var'].values)\n",
      "/tmp/ipykernel_3893707/4156051735.py:21: FutureWarning: Slicing a positional slice with .loc is not supported, and will raise TypeError in a future version.  Use .loc with labels or .iloc with positions instead.\n",
      "  gene_stats.loc[:100, 'hvg'] = True\n"
     ]
    },
    {
     "data": {
      "text/html": [
       "<div>\n",
       "<style scoped>\n",
       "    .dataframe tbody tr th:only-of-type {\n",
       "        vertical-align: middle;\n",
       "    }\n",
       "\n",
       "    .dataframe tbody tr th {\n",
       "        vertical-align: top;\n",
       "    }\n",
       "\n",
       "    .dataframe thead th {\n",
       "        text-align: right;\n",
       "    }\n",
       "</style>\n",
       "<table border=\"1\" class=\"dataframe\">\n",
       "  <thead>\n",
       "    <tr style=\"text-align: right;\">\n",
       "      <th></th>\n",
       "      <th>mean</th>\n",
       "      <th>var</th>\n",
       "      <th>pred var</th>\n",
       "      <th>adj. var</th>\n",
       "      <th>hvg</th>\n",
       "    </tr>\n",
       "  </thead>\n",
       "  <tbody>\n",
       "    <tr>\n",
       "      <th>Lyz2</th>\n",
       "      <td>8.351615</td>\n",
       "      <td>1.543824</td>\n",
       "      <td>0.194812</td>\n",
       "      <td>7.924704</td>\n",
       "      <td>True</td>\n",
       "    </tr>\n",
       "    <tr>\n",
       "      <th>Clu</th>\n",
       "      <td>8.162143</td>\n",
       "      <td>1.486609</td>\n",
       "      <td>0.232701</td>\n",
       "      <td>6.388487</td>\n",
       "      <td>True</td>\n",
       "    </tr>\n",
       "    <tr>\n",
       "      <th>S100a6</th>\n",
       "      <td>6.294310</td>\n",
       "      <td>2.324415</td>\n",
       "      <td>0.622314</td>\n",
       "      <td>3.735116</td>\n",
       "      <td>True</td>\n",
       "    </tr>\n",
       "    <tr>\n",
       "      <th>Scgb1a1</th>\n",
       "      <td>5.697284</td>\n",
       "      <td>2.174673</td>\n",
       "      <td>0.758246</td>\n",
       "      <td>2.868028</td>\n",
       "      <td>True</td>\n",
       "    </tr>\n",
       "    <tr>\n",
       "      <th>Hp</th>\n",
       "      <td>3.369871</td>\n",
       "      <td>3.487331</td>\n",
       "      <td>1.382725</td>\n",
       "      <td>2.522073</td>\n",
       "      <td>True</td>\n",
       "    </tr>\n",
       "    <tr>\n",
       "      <th>...</th>\n",
       "      <td>...</td>\n",
       "      <td>...</td>\n",
       "      <td>...</td>\n",
       "      <td>...</td>\n",
       "      <td>...</td>\n",
       "    </tr>\n",
       "    <tr>\n",
       "      <th>Atp5j</th>\n",
       "      <td>4.627385</td>\n",
       "      <td>0.553604</td>\n",
       "      <td>0.995732</td>\n",
       "      <td>0.555977</td>\n",
       "      <td>False</td>\n",
       "    </tr>\n",
       "    <tr>\n",
       "      <th>Myl6</th>\n",
       "      <td>5.235381</td>\n",
       "      <td>0.441425</td>\n",
       "      <td>0.864174</td>\n",
       "      <td>0.510805</td>\n",
       "      <td>False</td>\n",
       "    </tr>\n",
       "    <tr>\n",
       "      <th>Itm2b</th>\n",
       "      <td>4.700758</td>\n",
       "      <td>0.495406</td>\n",
       "      <td>0.980386</td>\n",
       "      <td>0.505317</td>\n",
       "      <td>False</td>\n",
       "    </tr>\n",
       "    <tr>\n",
       "      <th>Sftpc</th>\n",
       "      <td>11.179564</td>\n",
       "      <td>1.179284</td>\n",
       "      <td>-0.361879</td>\n",
       "      <td>NaN</td>\n",
       "      <td>False</td>\n",
       "    </tr>\n",
       "    <tr>\n",
       "      <th>Malat1</th>\n",
       "      <td>10.188156</td>\n",
       "      <td>0.751084</td>\n",
       "      <td>-0.167777</td>\n",
       "      <td>NaN</td>\n",
       "      <td>False</td>\n",
       "    </tr>\n",
       "  </tbody>\n",
       "</table>\n",
       "<p>714 rows × 5 columns</p>\n",
       "</div>"
      ],
      "text/plain": [
       "              mean       var  pred var  adj. var    hvg\n",
       "Lyz2      8.351615  1.543824  0.194812  7.924704   True\n",
       "Clu       8.162143  1.486609  0.232701  6.388487   True\n",
       "S100a6    6.294310  2.324415  0.622314  3.735116   True\n",
       "Scgb1a1   5.697284  2.174673  0.758246  2.868028   True\n",
       "Hp        3.369871  3.487331  1.382725  2.522073   True\n",
       "...            ...       ...       ...       ...    ...\n",
       "Atp5j     4.627385  0.553604  0.995732  0.555977  False\n",
       "Myl6      5.235381  0.441425  0.864174  0.510805  False\n",
       "Itm2b     4.700758  0.495406  0.980386  0.505317  False\n",
       "Sftpc    11.179564  1.179284 -0.361879       NaN  False\n",
       "Malat1   10.188156  0.751084 -0.167777       NaN  False\n",
       "\n",
       "[714 rows x 5 columns]"
      ]
     },
     "execution_count": 12,
     "metadata": {},
     "output_type": "execute_result"
    },
    {
     "data": {
      "image/png": "[encoded data removed]",
      "text/plain": [
       "<Figure size 1000x1000 with 2 Axes>"
      ]
     },
     "metadata": {},
     "output_type": "display_data"
    }
   ],
   "source": [
    "gene_stats = pd.DataFrame()\n",
    "gene_stats.index = gene_names\n",
    "gene_stats['mean'] = gene_counts.mean(axis=0)\n",
    "gene_stats['var'] = gene_counts.var(axis=0)\n",
    "gene_stats['pred var'] = lowess(gene_stats['var'], gene_stats['mean'], return_sorted=False, frac=1/3)\n",
    "\n",
    "fig, (ax, ax2) = plt.subplots(2, 1, figsize=(10, 10))\n",
    "ax.plot(gene_stats['mean'], gene_stats['var'], 'ob', alpha=0.5)\n",
    "gene_stats_sorted = gene_stats.sort_values('mean')\n",
    "ax.plot(gene_stats_sorted['mean'], gene_stats_sorted['pred var'], '-r', alpha=0.5)\n",
    "ax.set_xlabel('mean of log counts')\n",
    "ax.set_ylabel('var of log counts')\n",
    "\n",
    "adj_gene_counts = (gene_counts - gene_counts.mean(axis=0)) / np.sqrt(gene_stats['pred var'].values)\n",
    "print('values to clip:', (np.abs(adj_gene_counts) > np.sqrt(len(gene_counts))).sum())\n",
    "adj_gene_counts = np.clip(adj_gene_counts, -np.sqrt(len(gene_counts)), np.sqrt(len(gene_counts)))\n",
    "\n",
    "gene_stats['adj. var'] = adj_gene_counts.var(axis=0)\n",
    "gene_stats = gene_stats.sort_values('adj. var', ascending=False)\n",
    "gene_stats['hvg'] = False\n",
    "gene_stats.loc[:100, 'hvg'] = True\n",
    "\n",
    "ax2.plot(gene_stats[~gene_stats['hvg']]['mean'], gene_stats[~gene_stats['hvg']]['adj. var'], 'ob', alpha=0.5)\n",
    "ax2.plot(gene_stats[gene_stats['hvg']]['mean'], gene_stats[gene_stats['hvg']]['adj. var'], 'or', alpha=0.5)\n",
    "ax2.set_xlabel('mean of log counts')\n",
    "ax2.set_ylabel('adjusted var of log counts')\n",
    "fig.show()\n",
    "\n",
    "gene_stats"
   ]
  },
  {
   "cell_type": "code",
   "execution_count": 13,
   "metadata": {
    "colab": {
     "base_uri": "https://localhost:8080/"
    },
    "id": "OJC8k11bJys-",
    "outputId": "e66777ea-6e12-40cf-c127-a59c5140b095"
   },
   "outputs": [
    {
     "name": "stdout",
     "output_type": "stream",
     "text": [
      "ordered: Index(['Lyz2', 'Clu', 'S100a6', 'Scgb1a1', 'Hp', 'Actb', 'Krt7', 'Ager',\n",
      "       'Spp1', 'Cldn18', 'Areg', 'Sftpb', 'Krt20', 'Plac8', 'Krt19', 'Cd24a',\n",
      "       'Mcpt1', 'Onecut2', 'S100a14', 'Tff1', 'Ly6d', 'Cxcl5', 'Crlf1',\n",
      "       'Cldn4', 'Tspan1', 'Egfl6', 'Bex4', 'Slc34a2', 'Cited2', 'Dapl1',\n",
      "       'Cxcl10', 'Btg2', 'Bpifa1', 'Gsr', 'Cox6a2', 'Sox4', 'Stmn2',\n",
      "       'Hmga1-rs1', 'Id3', 'Krt18', 'Foxq1', 'R3hdml', 'Atp2b1', 'H2-Aa',\n",
      "       'Serpinb6b', 'Ugdh', 'Gstp1', 'Klf5', 'Gap43', 'Hist1h2ap', 'Oasl1',\n",
      "       'Pgk1', 'Il33', 'Myh7', 'Igfbp5', 'Car2', 'Dcpp1', 'Lmna', 'Ier5',\n",
      "       'Lamp3', 'S100a7a', 'Ctsl', 'Elf3', 'Fdx1', 'Tkt', 'Btg1', 'Cdc42ep5',\n",
      "       'Ctsd', 'Ier2', 'Ifi27', 'Siva1', 'Cct2', 'Pdlim7', 'Cebpb',\n",
      "       '2610001J05Rik', 'Pgam2', 'Akr1b3', 'Actn1', 'M1ap', 'Eif6', 'Anxa7',\n",
      "       'Eif1a', 'Srm', 'Myo5a', 'Aurka', 'Epcam', 'Pgd', 'Ywhag', 'Tmbim1',\n",
      "       'Lsr', 'Il6', 'mt-Nd2', 'Ahnak', 'Klf13', 'Snrpg', 'Slc16a11', 'Eprs',\n",
      "       'H2afy2', 'Gm9774', 'Hprt'],\n",
      "      dtype='object')\n"
     ]
    }
   ],
   "source": [
    "hvg_gene_names_inorder = gene_stats[gene_stats['hvg']].index\n",
    "print('ordered:', hvg_gene_names_inorder)"
   ]
  },
  {
   "cell_type": "code",
   "execution_count": 14,
   "metadata": {
    "id": "4I47W2RhNLuD"
   },
   "outputs": [],
   "source": [
    "np.savetxt(f'{data_path}/preprocessed/{name}_hvg_genes.txt', hvg_gene_names_inorder, fmt='%s')"
   ]
  },
  {
   "cell_type": "markdown",
   "metadata": {
    "id": "pj8aUM8Xwxsd"
   },
   "source": [
    "## Cell types"
   ]
  },
  {
   "cell_type": "code",
   "execution_count": 15,
   "metadata": {
    "colab": {
     "base_uri": "https://localhost:8080/",
     "height": 455
    },
    "id": "ljnrnzgh8SvG",
    "outputId": "65ae5d8f-6de8-4125-ed8c-9a1c82eb5c5c"
   },
   "outputs": [
    {
     "data": {
      "text/html": [
       "<div>\n",
       "<style scoped>\n",
       "    .dataframe tbody tr th:only-of-type {\n",
       "        vertical-align: middle;\n",
       "    }\n",
       "\n",
       "    .dataframe tbody tr th {\n",
       "        vertical-align: top;\n",
       "    }\n",
       "\n",
       "    .dataframe thead th {\n",
       "        text-align: right;\n",
       "    }\n",
       "</style>\n",
       "<table border=\"1\" class=\"dataframe\">\n",
       "  <thead>\n",
       "    <tr style=\"text-align: right;\">\n",
       "      <th></th>\n",
       "      <th>Cluster-Name</th>\n",
       "    </tr>\n",
       "    <tr>\n",
       "      <th>Cell names</th>\n",
       "      <th></th>\n",
       "    </tr>\n",
       "  </thead>\n",
       "  <tbody>\n",
       "    <tr>\n",
       "      <th>L30.AAACCTGAGCGTAGTG-1</th>\n",
       "      <td>AT2-like</td>\n",
       "    </tr>\n",
       "    <tr>\n",
       "      <th>L30.AAACCTGGTGGTCCGT-1</th>\n",
       "      <td>AT2-like</td>\n",
       "    </tr>\n",
       "    <tr>\n",
       "      <th>L30.AAACGGGAGAGTACAT-1</th>\n",
       "      <td>AT2-like</td>\n",
       "    </tr>\n",
       "    <tr>\n",
       "      <th>L30.AAACGGGCAATGAAAC-1</th>\n",
       "      <td>AT2-like</td>\n",
       "    </tr>\n",
       "    <tr>\n",
       "      <th>L30.AAACGGGCACCGGAAA-1</th>\n",
       "      <td>AT2-like</td>\n",
       "    </tr>\n",
       "    <tr>\n",
       "      <th>...</th>\n",
       "      <td>...</td>\n",
       "    </tr>\n",
       "    <tr>\n",
       "      <th>L30.TTTGGTTTCTGCGTAA-1</th>\n",
       "      <td>Lung progenitor-like</td>\n",
       "    </tr>\n",
       "    <tr>\n",
       "      <th>L30.TTTGTCAAGAAGGTTT-1</th>\n",
       "      <td>AT2-like</td>\n",
       "    </tr>\n",
       "    <tr>\n",
       "      <th>L30.TTTGTCAGTCTGGTCG-1</th>\n",
       "      <td>AT1-like</td>\n",
       "    </tr>\n",
       "    <tr>\n",
       "      <th>L30.TTTGTCATCTCTAAGG-1</th>\n",
       "      <td>AT2-like</td>\n",
       "    </tr>\n",
       "    <tr>\n",
       "      <th>L30.TTTGTCATCTGCGTAA-1</th>\n",
       "      <td>Lung progenitor-like</td>\n",
       "    </tr>\n",
       "  </tbody>\n",
       "</table>\n",
       "<p>1112 rows × 1 columns</p>\n",
       "</div>"
      ],
      "text/plain": [
       "                                Cluster-Name\n",
       "Cell names                                  \n",
       "L30.AAACCTGAGCGTAGTG-1              AT2-like\n",
       "L30.AAACCTGGTGGTCCGT-1              AT2-like\n",
       "L30.AAACGGGAGAGTACAT-1              AT2-like\n",
       "L30.AAACGGGCAATGAAAC-1              AT2-like\n",
       "L30.AAACGGGCACCGGAAA-1              AT2-like\n",
       "...                                      ...\n",
       "L30.TTTGGTTTCTGCGTAA-1  Lung progenitor-like\n",
       "L30.TTTGTCAAGAAGGTTT-1              AT2-like\n",
       "L30.TTTGTCAGTCTGGTCG-1              AT1-like\n",
       "L30.TTTGTCATCTCTAAGG-1              AT2-like\n",
       "L30.TTTGTCATCTGCGTAA-1  Lung progenitor-like\n",
       "\n",
       "[1112 rows x 1 columns]"
      ]
     },
     "execution_count": 15,
     "metadata": {},
     "output_type": "execute_result"
    }
   ],
   "source": [
    "with open(f'{data_path}/preprocessed/{name}_cells.txt') as f:\n",
    "  labels = np.array(f.read().splitlines())\n",
    "cell_types = pd.DataFrame(labels, columns=['Cell names']).set_index('Cell names')\n",
    "cell_types = cell_types.join(adata.obs['Cluster-Name'])\n",
    "assert (labels == cell_types.index).all()  # check order\n",
    "cell_types"
   ]
  },
  {
   "cell_type": "code",
   "execution_count": 16,
   "metadata": {
    "colab": {
     "base_uri": "https://localhost:8080/"
    },
    "id": "jG30iPKKODYU",
    "outputId": "e26ebc34-8312-484f-ffd9-606d275fe03d"
   },
   "outputs": [
    {
     "data": {
      "text/plain": [
       "AT2-like                   667\n",
       "Lung progenitor-like       214\n",
       "AT1-like                   114\n",
       "High plasticity             67\n",
       "Gastric-like                17\n",
       "Pre-EMT                     15\n",
       "Early EMT-1                 11\n",
       "Early EMT-2                  3\n",
       "Endoderm-like                3\n",
       "Early gastric                1\n",
       "Mesenchymal-2                0\n",
       "Mesenchymal-1 (Met)          0\n",
       "Late Gastric                 0\n",
       "Mesenchymal-2 (Met)          0\n",
       "Mesenchymal-1                0\n",
       "Apc Mesenchymal-1 (Met)      0\n",
       "Apc Early                    0\n",
       "Apc Mesenchymal-2            0\n",
       "Lkb1 subtype                 0\n",
       "Name: Cluster-Name, dtype: int64"
      ]
     },
     "execution_count": 16,
     "metadata": {},
     "output_type": "execute_result"
    }
   ],
   "source": [
    "cell_types['Cluster-Name'].value_counts()"
   ]
  },
  {
   "cell_type": "code",
   "execution_count": 17,
   "metadata": {
    "id": "ZtYpcETzA3jL"
   },
   "outputs": [],
   "source": [
    "cell_types.to_csv(f'{data_path}/preprocessed/{name}_cell_types.txt', header=False, index=False)"
   ]
  },
  {
   "cell_type": "markdown",
   "metadata": {
    "id": "wpgeeJP4xLt8"
   },
   "source": [
    "## Triplet look-up table"
   ]
  },
  {
   "cell_type": "code",
   "execution_count": 3,
   "metadata": {
    "colab": {
     "base_uri": "https://localhost:8080/"
    },
    "id": "EM_anxY5xK6s",
    "outputId": "f8623490-c288-47b1-88b1-ab29cb3fa301"
   },
   "outputs": [
    {
     "name": "stderr",
     "output_type": "stream",
     "text": [
      "100%|████████████████████████████████████████████████████████████████████████████████████████████████████████████████████████████████████████████████████████████████████████████| 1112/1112 [00:01<00:00, 908.71it/s]\n"
     ]
    }
   ],
   "source": [
    "tree = dendropy.Tree.get(path=f'{data_path}/preprocessed/{name}_pruned.nwk', schema='newick')\n",
    "with open(f'{data_path}/preprocessed/{name}_cells.txt') as f:\n",
    "  cell_names = np.array(f.read().splitlines())\n",
    "# computing the phylogenetic_distance_matrix with dendropy can take a few minutes\n",
    "dist_matrix = dist_matrix_to_numpy(tree.phylogenetic_distance_matrix(), cell_names)\n",
    "apn_lut = get_apn_dist_triplet_lut(dist_matrix)\n",
    "\n",
    "with open(f'{data_path}/preprocessed/{name}_apn_pd_triplet_lut.npy', 'wb') as f:\n",
    "  np.save(f, apn_lut)"
   ]
  },
  {
   "cell_type": "markdown",
   "metadata": {
    "id": "QjpBnbQT4Q1p"
   },
   "source": [
    "# Tumor 3726_NT_T2"
   ]
  },
  {
   "cell_type": "code",
   "execution_count": 19,
   "metadata": {
    "id": "-WzE72pg4Q1q"
   },
   "outputs": [],
   "source": [
    "name = '3726_NT_T2'"
   ]
  },
  {
   "cell_type": "markdown",
   "metadata": {
    "id": "VJvv9jlo4Q1q"
   },
   "source": [
    "## Prune tree"
   ]
  },
  {
   "cell_type": "code",
   "execution_count": 20,
   "metadata": {
    "colab": {
     "base_uri": "https://localhost:8080/"
    },
    "id": "F8dxT1yo41oM",
    "outputId": "43319f03-e93f-4f6c-a828-9511c59468cf"
   },
   "outputs": [
    {
     "name": "stdout",
     "output_type": "stream",
     "text": [
      "height: 19.0\n"
     ]
    }
   ],
   "source": [
    "tree = dendropy.Tree.get(path=f'{data_path}/KPTracer-Data/trees/{name}_tree.nwk', schema='newick')\n",
    "for edge in tree.edges():\n",
    "  edge.length = 1\n",
    "print('height:', tree.max_distance_from_root())"
   ]
  },
  {
   "cell_type": "code",
   "execution_count": 21,
   "metadata": {
    "colab": {
     "base_uri": "https://localhost:8080/"
    },
    "id": "dYww6qKa4Q1r",
    "outputId": "f453f590-de67-429c-ee0e-938b6e4b4a98"
   },
   "outputs": [
    {
     "data": {
      "text/plain": [
       "0"
      ]
     },
     "execution_count": 21,
     "metadata": {},
     "output_type": "execute_result"
    }
   ],
   "source": [
    "tumor_meta = meta_df[(meta_df['Tumor'] == name) & meta_df['TS_Present'] & meta_df['RNA_Present']]\n",
    "tumor_adata = adata[adata.obs['Tumor'] == name]\n",
    "(tumor_meta['Unnamed: 0'].value_counts() != 1).sum()  # check that cells are unique"
   ]
  },
  {
   "cell_type": "code",
   "execution_count": 22,
   "metadata": {
    "colab": {
     "base_uri": "https://localhost:8080/"
    },
    "id": "qKXYAKq14Q1r",
    "outputId": "a5a74e94-8f38-4379-d9a0-2cd4639c1248"
   },
   "outputs": [
    {
     "name": "stdout",
     "output_type": "stream",
     "text": [
      "854 855 936\n",
      "meta but not tree (vice versa):  1 ( 0 )\n",
      "tree but not adata (vice versa):  1 ( 83 )\n",
      "meta but not adata (vice versa):  2 ( 83 )\n",
      "intersection:  853\n"
     ]
    }
   ],
   "source": [
    "# find intersection of cells in both modalities\n",
    "tree_cells = set([c.taxon.label for c in tree.leaf_nodes()])\n",
    "meta_cells = set(tumor_meta['Unnamed: 0'])\n",
    "adata_cells = set(tumor_adata.obs.index)\n",
    "print(len(tree_cells), len(meta_cells), len(adata_cells))\n",
    "print('meta but not tree (vice versa): ', len(meta_cells - tree_cells), '(', len(tree_cells - meta_cells), ')')\n",
    "print('tree but not adata (vice versa): ', len(tree_cells - adata_cells), '(', len(adata_cells - tree_cells), ')')\n",
    "print('meta but not adata (vice versa): ', len(meta_cells - adata_cells), '(', len(adata_cells - meta_cells), ')')\n",
    "\n",
    "intersect_cells = meta_cells\n",
    "intersect_cells -= intersect_cells - tree_cells\n",
    "intersect_cells -= intersect_cells - adata_cells\n",
    "print('intersection: ', len(intersect_cells))"
   ]
  },
  {
   "cell_type": "code",
   "execution_count": 23,
   "metadata": {
    "colab": {
     "base_uri": "https://localhost:8080/"
    },
    "id": "Y8QKkHje4Q1s",
    "outputId": "1b775b18-6ebc-4056-fed0-a16eb9ba523f"
   },
   "outputs": [
    {
     "name": "stdout",
     "output_type": "stream",
     "text": [
      "height: 15.0\n",
      "leaves: 853\n"
     ]
    }
   ],
   "source": [
    "# prune tree\n",
    "tree.retain_taxa_with_labels(intersect_cells, suppress_unifurcations=True)\n",
    "for edge in tree.edges():\n",
    "  # set edge lengths to 1 again as we deleted some degree 1 nodes\n",
    "  edge.length = 1\n",
    "print('height:', tree.max_distance_from_root())\n",
    "print('leaves:', len(tree.leaf_nodes()))\n",
    "tree.write(path=f'{data_path}/preprocessed/{name}_pruned.nwk', schema='newick')"
   ]
  },
  {
   "cell_type": "code",
   "execution_count": 24,
   "metadata": {
    "colab": {
     "base_uri": "https://localhost:8080/"
    },
    "id": "rVvbGCCy4Q1s",
    "outputId": "4a16abe4-9734-4b03-c8c8-e91c0c77b1a8"
   },
   "outputs": [
    {
     "data": {
      "text/plain": [
       "(array([ 0,  2,  3,  4,  5,  7,  8, 11]),\n",
       " array([853, 597,  70,  20,   5,   3,   1,   1]))"
      ]
     },
     "execution_count": 24,
     "metadata": {},
     "output_type": "execute_result"
    }
   ],
   "source": [
    "# get degrees of nodes:\n",
    "np.unique(list(map(lambda x: x.num_child_nodes(), tree.nodes())), return_counts=True)"
   ]
  },
  {
   "cell_type": "markdown",
   "metadata": {
    "id": "4DlPIGis4Q1t"
   },
   "source": [
    "## Gene expression pre-processing"
   ]
  },
  {
   "cell_type": "code",
   "execution_count": 25,
   "metadata": {
    "colab": {
     "base_uri": "https://localhost:8080/"
    },
    "id": "p0ToDBrg4Q1u",
    "outputId": "7cc34f4f-ec01-4173-95c1-6901c768c4ef"
   },
   "outputs": [
    {
     "name": "stdout",
     "output_type": "stream",
     "text": [
      "(853, 4000)\n",
      "genes expressed in 10 or more cells: 689\n",
      "(853, 689)\n"
     ]
    }
   ],
   "source": [
    "pruned_adata = tumor_adata[tumor_adata.obs.index.isin(intersect_cells)]\n",
    "print(pruned_adata.X.shape)\n",
    "\n",
    "# remove rare genes\n",
    "keep = np.array((pruned_adata.X > 0).sum(axis=0) >= 10).flatten()\n",
    "print('genes expressed in 10 or more cells:', np.sum(keep))\n",
    "gene_names = adata.var_names[keep]\n",
    "gene_counts = pruned_adata.X[:, keep].toarray()\n",
    "print(gene_counts.shape)\n",
    "\n",
    "# L1 normalization on cells to [0, 10000]\n",
    "cell_sums = gene_counts.sum(axis=1)\n",
    "gene_counts[cell_sums > 0] = gene_counts[cell_sums > 0] / cell_sums[cell_sums > 0].reshape(-1, 1)\n",
    "gene_counts *= 10000\n",
    "# log2(1 + x) tranform\n",
    "gene_counts = np.log2(1 + gene_counts)"
   ]
  },
  {
   "cell_type": "code",
   "execution_count": 26,
   "metadata": {
    "id": "vVABSCgx4Q1u"
   },
   "outputs": [],
   "source": [
    "# index is cell names\n",
    "pd.DataFrame(pruned_adata.obs.index).to_csv(f'{data_path}/preprocessed/{name}_cells.txt', index=False, columns=[0], header=False)"
   ]
  },
  {
   "cell_type": "code",
   "execution_count": 27,
   "metadata": {
    "id": "eWe8IcUI4Q1u"
   },
   "outputs": [],
   "source": [
    "df = pd.DataFrame(gene_counts)\n",
    "df.columns = gene_names\n",
    "df.to_csv(f'{data_path}/preprocessed/{name}_normalized_log_counts.txt', index=False)"
   ]
  },
  {
   "cell_type": "markdown",
   "metadata": {
    "id": "YJ8KHscV4Q1x"
   },
   "source": [
    "## Cell types"
   ]
  },
  {
   "cell_type": "code",
   "execution_count": 28,
   "metadata": {
    "colab": {
     "base_uri": "https://localhost:8080/",
     "height": 455
    },
    "id": "dACZvhMg4Q1x",
    "outputId": "81a1ed99-d242-4749-e2f0-5b4cd363ffc2"
   },
   "outputs": [
    {
     "data": {
      "text/html": [
       "<div>\n",
       "<style scoped>\n",
       "    .dataframe tbody tr th:only-of-type {\n",
       "        vertical-align: middle;\n",
       "    }\n",
       "\n",
       "    .dataframe tbody tr th {\n",
       "        vertical-align: top;\n",
       "    }\n",
       "\n",
       "    .dataframe thead th {\n",
       "        text-align: right;\n",
       "    }\n",
       "</style>\n",
       "<table border=\"1\" class=\"dataframe\">\n",
       "  <thead>\n",
       "    <tr style=\"text-align: right;\">\n",
       "      <th></th>\n",
       "      <th>Cluster-Name</th>\n",
       "    </tr>\n",
       "    <tr>\n",
       "      <th>Cell names</th>\n",
       "      <th></th>\n",
       "    </tr>\n",
       "  </thead>\n",
       "  <tbody>\n",
       "    <tr>\n",
       "      <th>L6.AAACCTGTCATGTCCC-1</th>\n",
       "      <td>AT2-like</td>\n",
       "    </tr>\n",
       "    <tr>\n",
       "      <th>L6.AAACGGGAGATGTCGG-1</th>\n",
       "      <td>AT2-like</td>\n",
       "    </tr>\n",
       "    <tr>\n",
       "      <th>L6.AAACGGGCAAGGACAC-1</th>\n",
       "      <td>AT2-like</td>\n",
       "    </tr>\n",
       "    <tr>\n",
       "      <th>L6.AAAGATGAGGATCGCA-1</th>\n",
       "      <td>AT2-like</td>\n",
       "    </tr>\n",
       "    <tr>\n",
       "      <th>L6.AAAGCAACATGTAGTC-1</th>\n",
       "      <td>AT2-like</td>\n",
       "    </tr>\n",
       "    <tr>\n",
       "      <th>...</th>\n",
       "      <td>...</td>\n",
       "    </tr>\n",
       "    <tr>\n",
       "      <th>L6.TTTGGTTGTCGAGATG-1</th>\n",
       "      <td>AT2-like</td>\n",
       "    </tr>\n",
       "    <tr>\n",
       "      <th>L6.TTTGGTTGTTTGTTTC-1</th>\n",
       "      <td>AT2-like</td>\n",
       "    </tr>\n",
       "    <tr>\n",
       "      <th>L6.TTTGTCAGTGTGGTTT-1</th>\n",
       "      <td>AT2-like</td>\n",
       "    </tr>\n",
       "    <tr>\n",
       "      <th>L6.TTTGTCATCACGCGGT-1</th>\n",
       "      <td>AT2-like</td>\n",
       "    </tr>\n",
       "    <tr>\n",
       "      <th>L6.TTTGTCATCCACTGGG-1</th>\n",
       "      <td>AT2-like</td>\n",
       "    </tr>\n",
       "  </tbody>\n",
       "</table>\n",
       "<p>853 rows × 1 columns</p>\n",
       "</div>"
      ],
      "text/plain": [
       "                      Cluster-Name\n",
       "Cell names                        \n",
       "L6.AAACCTGTCATGTCCC-1     AT2-like\n",
       "L6.AAACGGGAGATGTCGG-1     AT2-like\n",
       "L6.AAACGGGCAAGGACAC-1     AT2-like\n",
       "L6.AAAGATGAGGATCGCA-1     AT2-like\n",
       "L6.AAAGCAACATGTAGTC-1     AT2-like\n",
       "...                            ...\n",
       "L6.TTTGGTTGTCGAGATG-1     AT2-like\n",
       "L6.TTTGGTTGTTTGTTTC-1     AT2-like\n",
       "L6.TTTGTCAGTGTGGTTT-1     AT2-like\n",
       "L6.TTTGTCATCACGCGGT-1     AT2-like\n",
       "L6.TTTGTCATCCACTGGG-1     AT2-like\n",
       "\n",
       "[853 rows x 1 columns]"
      ]
     },
     "execution_count": 28,
     "metadata": {},
     "output_type": "execute_result"
    }
   ],
   "source": [
    "with open(f'{data_path}/preprocessed/{name}_cells.txt') as f:\n",
    "  labels = np.array(f.read().splitlines())\n",
    "cell_types = pd.DataFrame(labels, columns=['Cell names']).set_index('Cell names')\n",
    "cell_types = cell_types.join(adata.obs['Cluster-Name'])\n",
    "assert (labels == cell_types.index).all()  # check order\n",
    "cell_types"
   ]
  },
  {
   "cell_type": "code",
   "execution_count": 29,
   "metadata": {
    "colab": {
     "base_uri": "https://localhost:8080/"
    },
    "id": "vwlaFals4Q1y",
    "outputId": "5e8a8ca7-0eef-45ac-c52c-e1bd5716de7e"
   },
   "outputs": [
    {
     "data": {
      "text/plain": [
       "AT2-like                   755\n",
       "AT1-like                    58\n",
       "Early gastric               18\n",
       "High plasticity             11\n",
       "Gastric-like                 5\n",
       "Early EMT-1                  5\n",
       "Pre-EMT                      1\n",
       "Late Gastric                 0\n",
       "Apc Mesenchymal-2            0\n",
       "Apc Early                    0\n",
       "Apc Mesenchymal-1 (Met)      0\n",
       "Early EMT-2                  0\n",
       "Endoderm-like                0\n",
       "Mesenchymal-1 (Met)          0\n",
       "Lung progenitor-like         0\n",
       "Mesenchymal-2                0\n",
       "Mesenchymal-2 (Met)          0\n",
       "Mesenchymal-1                0\n",
       "Lkb1 subtype                 0\n",
       "Name: Cluster-Name, dtype: int64"
      ]
     },
     "execution_count": 29,
     "metadata": {},
     "output_type": "execute_result"
    }
   ],
   "source": [
    "cell_types['Cluster-Name'].value_counts()"
   ]
  },
  {
   "cell_type": "code",
   "execution_count": 30,
   "metadata": {
    "id": "wJFgz9tx4Q1y"
   },
   "outputs": [],
   "source": [
    "cell_types.to_csv(f'{data_path}/preprocessed/{name}_cell_types.txt', header=False, index=False)"
   ]
  },
  {
   "cell_type": "markdown",
   "metadata": {
    "id": "8GLsKAVf5TvG"
   },
   "source": [
    "# Tumor 3730_NT_T1"
   ]
  },
  {
   "cell_type": "code",
   "execution_count": 31,
   "metadata": {
    "id": "HouGiGqy5TvH"
   },
   "outputs": [],
   "source": [
    "name = '3730_NT_T1'"
   ]
  },
  {
   "cell_type": "markdown",
   "metadata": {
    "id": "Wp5s7f-g5TvH"
   },
   "source": [
    "## Prune tree"
   ]
  },
  {
   "cell_type": "code",
   "execution_count": 32,
   "metadata": {
    "colab": {
     "base_uri": "https://localhost:8080/"
    },
    "id": "VBDDYGzL5TvH",
    "outputId": "5d8f6388-eea5-450f-952e-0eb3fd14617d"
   },
   "outputs": [
    {
     "name": "stdout",
     "output_type": "stream",
     "text": [
      "height: 23.0\n"
     ]
    }
   ],
   "source": [
    "tree = dendropy.Tree.get(path=f'{data_path}/KPTracer-Data/trees/{name}_tree.nwk', schema='newick')\n",
    "for edge in tree.edges():\n",
    "  edge.length = 1\n",
    "print('height:', tree.max_distance_from_root())"
   ]
  },
  {
   "cell_type": "code",
   "execution_count": 33,
   "metadata": {
    "colab": {
     "base_uri": "https://localhost:8080/"
    },
    "id": "7igjFecv5TvH",
    "outputId": "d26a9bb9-170d-423a-941f-ecf34748747b"
   },
   "outputs": [
    {
     "data": {
      "text/plain": [
       "0"
      ]
     },
     "execution_count": 33,
     "metadata": {},
     "output_type": "execute_result"
    }
   ],
   "source": [
    "tumor_meta = meta_df[(meta_df['Tumor'] == name) & meta_df['TS_Present'] & meta_df['RNA_Present']]\n",
    "tumor_adata = adata[adata.obs['Tumor'] == name]\n",
    "(tumor_meta['Unnamed: 0'].value_counts() != 1).sum()  # check that cells are unique"
   ]
  },
  {
   "cell_type": "code",
   "execution_count": 34,
   "metadata": {
    "colab": {
     "base_uri": "https://localhost:8080/"
    },
    "id": "zUBIW6Zp5TvI",
    "outputId": "d5b688f3-7b77-4930-fc85-fd772a517783"
   },
   "outputs": [
    {
     "name": "stdout",
     "output_type": "stream",
     "text": [
      "1226 1234 1301\n",
      "meta but not tree (vice versa):  8 ( 0 )\n",
      "tree but not adata (vice versa):  8 ( 83 )\n",
      "meta but not adata (vice versa):  16 ( 83 )\n",
      "intersection:  1218\n"
     ]
    }
   ],
   "source": [
    "# find intersection of cells in both modalities\n",
    "tree_cells = set([c.taxon.label for c in tree.leaf_nodes()])\n",
    "meta_cells = set(tumor_meta['Unnamed: 0'])\n",
    "adata_cells = set(tumor_adata.obs.index)\n",
    "print(len(tree_cells), len(meta_cells), len(adata_cells))\n",
    "print('meta but not tree (vice versa): ', len(meta_cells - tree_cells), '(', len(tree_cells - meta_cells), ')')\n",
    "print('tree but not adata (vice versa): ', len(tree_cells - adata_cells), '(', len(adata_cells - tree_cells), ')')\n",
    "print('meta but not adata (vice versa): ', len(meta_cells - adata_cells), '(', len(adata_cells - meta_cells), ')')\n",
    "\n",
    "intersect_cells = meta_cells\n",
    "intersect_cells -= intersect_cells - tree_cells\n",
    "intersect_cells -= intersect_cells - adata_cells\n",
    "print('intersection: ', len(intersect_cells))"
   ]
  },
  {
   "cell_type": "code",
   "execution_count": 35,
   "metadata": {
    "colab": {
     "base_uri": "https://localhost:8080/"
    },
    "id": "PE1mffAT5TvI",
    "outputId": "8ca1f435-d483-4334-b6c3-2f3a6c400e63"
   },
   "outputs": [
    {
     "name": "stdout",
     "output_type": "stream",
     "text": [
      "height: 21.0\n",
      "leaves: 1218\n"
     ]
    }
   ],
   "source": [
    "# prune tree\n",
    "tree.retain_taxa_with_labels(intersect_cells, suppress_unifurcations=True)\n",
    "for edge in tree.edges():\n",
    "  # set edge lengths to 1 again as we deleted some degree 1 nodes\n",
    "  edge.length = 1\n",
    "print('height:', tree.max_distance_from_root())\n",
    "print('leaves:', len(tree.leaf_nodes()))\n",
    "tree.write(path=f'{data_path}/preprocessed/{name}_pruned.nwk', schema='newick')"
   ]
  },
  {
   "cell_type": "code",
   "execution_count": 36,
   "metadata": {
    "colab": {
     "base_uri": "https://localhost:8080/"
    },
    "id": "q_0juwVm5TvI",
    "outputId": "9d9cb550-94bd-4ee6-fec2-fd4f3c63251d"
   },
   "outputs": [
    {
     "data": {
      "text/plain": [
       "(array([ 0,  2,  3,  4,  5,  6,  7,  8,  9, 10, 11, 12, 13, 14, 15, 16, 17,\n",
       "        18, 27, 29, 30, 36, 56]),\n",
       " array([1218,  543,   82,   21,   10,    9,    5,    2,    1,    2,    1,\n",
       "           2,    1,    1,    1,    1,    1,    1,    1,    1,    1,    1,\n",
       "           1]))"
      ]
     },
     "execution_count": 36,
     "metadata": {},
     "output_type": "execute_result"
    }
   ],
   "source": [
    "# get degrees of nodes:\n",
    "np.unique(list(map(lambda x: x.num_child_nodes(), tree.nodes())), return_counts=True)"
   ]
  },
  {
   "cell_type": "markdown",
   "metadata": {
    "id": "NK76zSod5TvJ"
   },
   "source": [
    "## Gene expression pre-processing"
   ]
  },
  {
   "cell_type": "code",
   "execution_count": 37,
   "metadata": {
    "colab": {
     "base_uri": "https://localhost:8080/"
    },
    "id": "bZgogBug5TvJ",
    "outputId": "3c65a49b-5e83-473c-ffae-21be23770e5d"
   },
   "outputs": [
    {
     "name": "stdout",
     "output_type": "stream",
     "text": [
      "(1218, 4000)\n",
      "genes expressed in 10 or more cells: 719\n",
      "(1218, 719)\n"
     ]
    }
   ],
   "source": [
    "pruned_adata = tumor_adata[tumor_adata.obs.index.isin(intersect_cells)]\n",
    "print(pruned_adata.X.shape)\n",
    "\n",
    "# remove rare genes\n",
    "keep = np.array((pruned_adata.X > 0).sum(axis=0) >= 10).flatten()\n",
    "print('genes expressed in 10 or more cells:', np.sum(keep))\n",
    "gene_names = adata.var_names[keep]\n",
    "gene_counts = pruned_adata.X[:, keep].toarray()\n",
    "print(gene_counts.shape)\n",
    "\n",
    "# L1 normalization on cells to [0, 10000]\n",
    "cell_sums = gene_counts.sum(axis=1)\n",
    "gene_counts[cell_sums > 0] = gene_counts[cell_sums > 0] / cell_sums[cell_sums > 0].reshape(-1, 1)\n",
    "gene_counts *= 10000\n",
    "# log2(1 + x) tranform\n",
    "gene_counts = np.log2(1 + gene_counts)"
   ]
  },
  {
   "cell_type": "code",
   "execution_count": 38,
   "metadata": {
    "id": "QKlkBOjL5TvJ"
   },
   "outputs": [],
   "source": [
    "# index is cell names\n",
    "pd.DataFrame(pruned_adata.obs.index).to_csv(f'{data_path}/preprocessed/{name}_cells.txt', index=False, columns=[0], header=False)"
   ]
  },
  {
   "cell_type": "code",
   "execution_count": 39,
   "metadata": {
    "id": "CGtzsFkz5TvJ"
   },
   "outputs": [],
   "source": [
    "df = pd.DataFrame(gene_counts)\n",
    "df.columns = gene_names\n",
    "df.to_csv(f'{data_path}/preprocessed/{name}_normalized_log_counts.txt', index=False)"
   ]
  },
  {
   "cell_type": "markdown",
   "metadata": {
    "id": "xu9nPWur5TvK"
   },
   "source": [
    "## Cell types"
   ]
  },
  {
   "cell_type": "code",
   "execution_count": 40,
   "metadata": {
    "colab": {
     "base_uri": "https://localhost:8080/",
     "height": 455
    },
    "id": "4Ebw8gDD5TvK",
    "outputId": "8080d5d9-c368-43ac-bdf3-d972d7fe6de7"
   },
   "outputs": [
    {
     "data": {
      "text/html": [
       "<div>\n",
       "<style scoped>\n",
       "    .dataframe tbody tr th:only-of-type {\n",
       "        vertical-align: middle;\n",
       "    }\n",
       "\n",
       "    .dataframe tbody tr th {\n",
       "        vertical-align: top;\n",
       "    }\n",
       "\n",
       "    .dataframe thead th {\n",
       "        text-align: right;\n",
       "    }\n",
       "</style>\n",
       "<table border=\"1\" class=\"dataframe\">\n",
       "  <thead>\n",
       "    <tr style=\"text-align: right;\">\n",
       "      <th></th>\n",
       "      <th>Cluster-Name</th>\n",
       "    </tr>\n",
       "    <tr>\n",
       "      <th>Cell names</th>\n",
       "      <th></th>\n",
       "    </tr>\n",
       "  </thead>\n",
       "  <tbody>\n",
       "    <tr>\n",
       "      <th>L6.AAACCTGAGAACTGTA-1</th>\n",
       "      <td>AT2-like</td>\n",
       "    </tr>\n",
       "    <tr>\n",
       "      <th>L6.AAACCTGGTACAGACG-1</th>\n",
       "      <td>AT2-like</td>\n",
       "    </tr>\n",
       "    <tr>\n",
       "      <th>L6.AAACCTGGTTAAAGTG-1</th>\n",
       "      <td>Lung progenitor-like</td>\n",
       "    </tr>\n",
       "    <tr>\n",
       "      <th>L6.AAACGGGAGAGTGACC-1</th>\n",
       "      <td>AT1-like</td>\n",
       "    </tr>\n",
       "    <tr>\n",
       "      <th>L6.AAACGGGAGGTGCTAG-1</th>\n",
       "      <td>AT2-like</td>\n",
       "    </tr>\n",
       "    <tr>\n",
       "      <th>...</th>\n",
       "      <td>...</td>\n",
       "    </tr>\n",
       "    <tr>\n",
       "      <th>L6.TTTGTCACAACTGCGC-1</th>\n",
       "      <td>AT2-like</td>\n",
       "    </tr>\n",
       "    <tr>\n",
       "      <th>L6.TTTGTCAGTGACTCAT-1</th>\n",
       "      <td>AT2-like</td>\n",
       "    </tr>\n",
       "    <tr>\n",
       "      <th>L6.TTTGTCATCCGCGTTT-1</th>\n",
       "      <td>AT2-like</td>\n",
       "    </tr>\n",
       "    <tr>\n",
       "      <th>L6.TTTGTCATCCTTAATC-1</th>\n",
       "      <td>AT2-like</td>\n",
       "    </tr>\n",
       "    <tr>\n",
       "      <th>L6.TTTGTCATCTGCCCTA-1</th>\n",
       "      <td>AT2-like</td>\n",
       "    </tr>\n",
       "  </tbody>\n",
       "</table>\n",
       "<p>1218 rows × 1 columns</p>\n",
       "</div>"
      ],
      "text/plain": [
       "                               Cluster-Name\n",
       "Cell names                                 \n",
       "L6.AAACCTGAGAACTGTA-1              AT2-like\n",
       "L6.AAACCTGGTACAGACG-1              AT2-like\n",
       "L6.AAACCTGGTTAAAGTG-1  Lung progenitor-like\n",
       "L6.AAACGGGAGAGTGACC-1              AT1-like\n",
       "L6.AAACGGGAGGTGCTAG-1              AT2-like\n",
       "...                                     ...\n",
       "L6.TTTGTCACAACTGCGC-1              AT2-like\n",
       "L6.TTTGTCAGTGACTCAT-1              AT2-like\n",
       "L6.TTTGTCATCCGCGTTT-1              AT2-like\n",
       "L6.TTTGTCATCCTTAATC-1              AT2-like\n",
       "L6.TTTGTCATCTGCCCTA-1              AT2-like\n",
       "\n",
       "[1218 rows x 1 columns]"
      ]
     },
     "execution_count": 40,
     "metadata": {},
     "output_type": "execute_result"
    }
   ],
   "source": [
    "with open(f'{data_path}/preprocessed/{name}_cells.txt') as f:\n",
    "  labels = np.array(f.read().splitlines())\n",
    "cell_types = pd.DataFrame(labels, columns=['Cell names']).set_index('Cell names')\n",
    "cell_types = cell_types.join(adata.obs['Cluster-Name'])\n",
    "assert (labels == cell_types.index).all()  # check order\n",
    "cell_types"
   ]
  },
  {
   "cell_type": "code",
   "execution_count": 41,
   "metadata": {
    "colab": {
     "base_uri": "https://localhost:8080/"
    },
    "id": "62G7JIHG5TvK",
    "outputId": "b8942c12-13fb-4c3d-96e3-cdb09dbc0b52"
   },
   "outputs": [
    {
     "data": {
      "text/plain": [
       "Lung progenitor-like       567\n",
       "AT2-like                   515\n",
       "AT1-like                    60\n",
       "High plasticity             37\n",
       "Endoderm-like               11\n",
       "Pre-EMT                     11\n",
       "Gastric-like                 6\n",
       "Early EMT-2                  6\n",
       "Early gastric                3\n",
       "Early EMT-1                  1\n",
       "Mesenchymal-1                1\n",
       "Mesenchymal-2 (Met)          0\n",
       "Mesenchymal-2                0\n",
       "Mesenchymal-1 (Met)          0\n",
       "Late Gastric                 0\n",
       "Apc Mesenchymal-1 (Met)      0\n",
       "Apc Early                    0\n",
       "Apc Mesenchymal-2            0\n",
       "Lkb1 subtype                 0\n",
       "Name: Cluster-Name, dtype: int64"
      ]
     },
     "execution_count": 41,
     "metadata": {},
     "output_type": "execute_result"
    }
   ],
   "source": [
    "cell_types['Cluster-Name'].value_counts()"
   ]
  },
  {
   "cell_type": "code",
   "execution_count": 42,
   "metadata": {
    "id": "lK2T9e1u5TvK"
   },
   "outputs": [],
   "source": [
    "cell_types.to_csv(f'{data_path}/preprocessed/{name}_cell_types.txt', header=False, index=False)"
   ]
  },
  {
   "cell_type": "markdown",
   "metadata": {
    "id": "CYga4IMI5ctz"
   },
   "source": [
    "# Tumor 3513_NT_T4"
   ]
  },
  {
   "cell_type": "code",
   "execution_count": 43,
   "metadata": {
    "id": "hpAa--z_5ct_"
   },
   "outputs": [],
   "source": [
    "name = '3513_NT_T4'"
   ]
  },
  {
   "cell_type": "markdown",
   "metadata": {
    "id": "5EHxjt9K5ct_"
   },
   "source": [
    "## Prune tree"
   ]
  },
  {
   "cell_type": "code",
   "execution_count": 44,
   "metadata": {
    "colab": {
     "base_uri": "https://localhost:8080/"
    },
    "id": "OdAw7KXQ5ct_",
    "outputId": "ce9c08f0-c32a-48a1-ec69-dc73e2173809"
   },
   "outputs": [
    {
     "name": "stdout",
     "output_type": "stream",
     "text": [
      "height: 17.0\n"
     ]
    }
   ],
   "source": [
    "tree = dendropy.Tree.get(path=f'{data_path}/KPTracer-Data/trees/{name}_tree.nwk', schema='newick')\n",
    "for edge in tree.edges():\n",
    "  edge.length = 1\n",
    "print('height:', tree.max_distance_from_root())"
   ]
  },
  {
   "cell_type": "code",
   "execution_count": 45,
   "metadata": {
    "colab": {
     "base_uri": "https://localhost:8080/"
    },
    "id": "NMDuIpFa5ct_",
    "outputId": "fc685de8-b42e-46ad-814c-461560170298"
   },
   "outputs": [
    {
     "data": {
      "text/plain": [
       "0"
      ]
     },
     "execution_count": 45,
     "metadata": {},
     "output_type": "execute_result"
    }
   ],
   "source": [
    "tumor_meta = meta_df[(meta_df['Tumor'] == name) & meta_df['TS_Present'] & meta_df['RNA_Present']]\n",
    "tumor_adata = adata[adata.obs['Tumor'] == name]\n",
    "(tumor_meta['Unnamed: 0'].value_counts() != 1).sum()  # check that cells are unique"
   ]
  },
  {
   "cell_type": "code",
   "execution_count": 46,
   "metadata": {
    "colab": {
     "base_uri": "https://localhost:8080/"
    },
    "id": "4vyyLZvH5cuA",
    "outputId": "abbab883-4a06-49ad-e4e0-0b079609860f"
   },
   "outputs": [
    {
     "name": "stdout",
     "output_type": "stream",
     "text": [
      "604 604 604\n",
      "meta but not tree (vice versa):  0 ( 0 )\n",
      "tree but not adata (vice versa):  0 ( 0 )\n",
      "meta but not adata (vice versa):  0 ( 0 )\n",
      "intersection:  604\n"
     ]
    }
   ],
   "source": [
    "# find intersection of cells in both modalities\n",
    "tree_cells = set([c.taxon.label for c in tree.leaf_nodes()])\n",
    "meta_cells = set(tumor_meta['Unnamed: 0'])\n",
    "adata_cells = set(tumor_adata.obs.index)\n",
    "print(len(tree_cells), len(meta_cells), len(adata_cells))\n",
    "print('meta but not tree (vice versa): ', len(meta_cells - tree_cells), '(', len(tree_cells - meta_cells), ')')\n",
    "print('tree but not adata (vice versa): ', len(tree_cells - adata_cells), '(', len(adata_cells - tree_cells), ')')\n",
    "print('meta but not adata (vice versa): ', len(meta_cells - adata_cells), '(', len(adata_cells - meta_cells), ')')\n",
    "\n",
    "intersect_cells = meta_cells\n",
    "intersect_cells -= intersect_cells - tree_cells\n",
    "intersect_cells -= intersect_cells - adata_cells\n",
    "print('intersection: ', len(intersect_cells))"
   ]
  },
  {
   "cell_type": "code",
   "execution_count": 47,
   "metadata": {
    "colab": {
     "base_uri": "https://localhost:8080/"
    },
    "id": "AatIzd915cuA",
    "outputId": "a2e234dc-c66c-480a-faa5-1cfc3abea0ff"
   },
   "outputs": [
    {
     "name": "stdout",
     "output_type": "stream",
     "text": [
      "height: 16.0\n",
      "leaves: 604\n"
     ]
    }
   ],
   "source": [
    "# prune tree\n",
    "tree.retain_taxa_with_labels(intersect_cells, suppress_unifurcations=True)\n",
    "for edge in tree.edges():\n",
    "  # set edge lengths to 1 again as we deleted some degree 1 nodes\n",
    "  edge.length = 1\n",
    "print('height:', tree.max_distance_from_root())\n",
    "print('leaves:', len(tree.leaf_nodes()))\n",
    "tree.write(path=f'{data_path}/preprocessed/{name}_pruned.nwk', schema='newick')"
   ]
  },
  {
   "cell_type": "code",
   "execution_count": 48,
   "metadata": {
    "colab": {
     "base_uri": "https://localhost:8080/"
    },
    "id": "ghJYoiTu5cuA",
    "outputId": "0ae0c109-c1bf-4017-c5e8-497ecaa14bc1"
   },
   "outputs": [
    {
     "data": {
      "text/plain": [
       "(array([ 0,  2,  3,  4,  5,  6,  7,  9, 11, 16, 22, 23, 24, 32, 39, 80]),\n",
       " array([604, 158,  34,  13,   4,   4,   1,   2,   2,   1,   1,   1,   1,\n",
       "          2,   1,   1]))"
      ]
     },
     "execution_count": 48,
     "metadata": {},
     "output_type": "execute_result"
    }
   ],
   "source": [
    "# get degrees of nodes:\n",
    "np.unique(list(map(lambda x: x.num_child_nodes(), tree.nodes())), return_counts=True)"
   ]
  },
  {
   "cell_type": "markdown",
   "metadata": {
    "id": "0eCauhZ45cuA"
   },
   "source": [
    "## Gene expression pre-processing"
   ]
  },
  {
   "cell_type": "code",
   "execution_count": 49,
   "metadata": {
    "colab": {
     "base_uri": "https://localhost:8080/"
    },
    "id": "bnwcDKSe5cuA",
    "outputId": "5cf41644-bd75-4ff3-f529-4e621338bb97"
   },
   "outputs": [
    {
     "name": "stdout",
     "output_type": "stream",
     "text": [
      "(604, 4000)\n",
      "genes expressed in 10 or more cells: 476\n",
      "(604, 476)\n"
     ]
    }
   ],
   "source": [
    "pruned_adata = tumor_adata[tumor_adata.obs.index.isin(intersect_cells)]\n",
    "print(pruned_adata.X.shape)\n",
    "\n",
    "# remove rare genes\n",
    "keep = np.array((pruned_adata.X > 0).sum(axis=0) >= 10).flatten()\n",
    "print('genes expressed in 10 or more cells:', np.sum(keep))\n",
    "gene_names = adata.var_names[keep]\n",
    "gene_counts = pruned_adata.X[:, keep].toarray()\n",
    "print(gene_counts.shape)\n",
    "\n",
    "# L1 normalization on cells to [0, 10000]\n",
    "cell_sums = gene_counts.sum(axis=1)\n",
    "gene_counts[cell_sums > 0] = gene_counts[cell_sums > 0] / cell_sums[cell_sums > 0].reshape(-1, 1)\n",
    "gene_counts *= 10000\n",
    "# log2(1 + x) tranform\n",
    "gene_counts = np.log2(1 + gene_counts)"
   ]
  },
  {
   "cell_type": "code",
   "execution_count": 50,
   "metadata": {
    "id": "vhrhRbwB5cuA"
   },
   "outputs": [],
   "source": [
    "# index is cell names\n",
    "pd.DataFrame(pruned_adata.obs.index).to_csv(f'{data_path}/preprocessed/{name}_cells.txt', index=False, columns=[0], header=False)"
   ]
  },
  {
   "cell_type": "code",
   "execution_count": 51,
   "metadata": {
    "id": "Iur0rxwQ5cuB"
   },
   "outputs": [],
   "source": [
    "df = pd.DataFrame(gene_counts)\n",
    "df.columns = gene_names\n",
    "df.to_csv(f'{data_path}/preprocessed/{name}_normalized_log_counts.txt', index=False)"
   ]
  },
  {
   "cell_type": "markdown",
   "metadata": {
    "id": "F9o4tS5e5cuB"
   },
   "source": [
    "## Cell types"
   ]
  },
  {
   "cell_type": "code",
   "execution_count": 52,
   "metadata": {
    "colab": {
     "base_uri": "https://localhost:8080/",
     "height": 455
    },
    "id": "3OGNfmE55cuB",
    "outputId": "1f0ba465-1732-4fdd-bac9-5cf973851ef6"
   },
   "outputs": [
    {
     "data": {
      "text/html": [
       "<div>\n",
       "<style scoped>\n",
       "    .dataframe tbody tr th:only-of-type {\n",
       "        vertical-align: middle;\n",
       "    }\n",
       "\n",
       "    .dataframe tbody tr th {\n",
       "        vertical-align: top;\n",
       "    }\n",
       "\n",
       "    .dataframe thead th {\n",
       "        text-align: right;\n",
       "    }\n",
       "</style>\n",
       "<table border=\"1\" class=\"dataframe\">\n",
       "  <thead>\n",
       "    <tr style=\"text-align: right;\">\n",
       "      <th></th>\n",
       "      <th>Cluster-Name</th>\n",
       "    </tr>\n",
       "    <tr>\n",
       "      <th>Cell names</th>\n",
       "      <th></th>\n",
       "    </tr>\n",
       "  </thead>\n",
       "  <tbody>\n",
       "    <tr>\n",
       "      <th>L33.AAACGGGTCTTTAGTC-1</th>\n",
       "      <td>Early EMT-1</td>\n",
       "    </tr>\n",
       "    <tr>\n",
       "      <th>L33.AAAGATGCAATAACGA-1</th>\n",
       "      <td>Early EMT-1</td>\n",
       "    </tr>\n",
       "    <tr>\n",
       "      <th>L33.AAAGCAAGTTATGCGT-1</th>\n",
       "      <td>Gastric-like</td>\n",
       "    </tr>\n",
       "    <tr>\n",
       "      <th>L33.AAAGTAGGTTCATGGT-1</th>\n",
       "      <td>Early EMT-1</td>\n",
       "    </tr>\n",
       "    <tr>\n",
       "      <th>L33.AACCATGCAGCATACT-1</th>\n",
       "      <td>High plasticity</td>\n",
       "    </tr>\n",
       "    <tr>\n",
       "      <th>...</th>\n",
       "      <td>...</td>\n",
       "    </tr>\n",
       "    <tr>\n",
       "      <th>L33.TTTCCTCAGTCCCACG-1</th>\n",
       "      <td>AT1-like</td>\n",
       "    </tr>\n",
       "    <tr>\n",
       "      <th>L33.TTTCCTCAGTCTCCTC-1</th>\n",
       "      <td>Early EMT-1</td>\n",
       "    </tr>\n",
       "    <tr>\n",
       "      <th>L33.TTTCCTCCACCCATTC-1</th>\n",
       "      <td>Endoderm-like</td>\n",
       "    </tr>\n",
       "    <tr>\n",
       "      <th>L33.TTTGCGCTCACTCCTG-1</th>\n",
       "      <td>AT1-like</td>\n",
       "    </tr>\n",
       "    <tr>\n",
       "      <th>L33.TTTGGTTTCATAACCG-1</th>\n",
       "      <td>High plasticity</td>\n",
       "    </tr>\n",
       "  </tbody>\n",
       "</table>\n",
       "<p>604 rows × 1 columns</p>\n",
       "</div>"
      ],
      "text/plain": [
       "                           Cluster-Name\n",
       "Cell names                             \n",
       "L33.AAACGGGTCTTTAGTC-1      Early EMT-1\n",
       "L33.AAAGATGCAATAACGA-1      Early EMT-1\n",
       "L33.AAAGCAAGTTATGCGT-1     Gastric-like\n",
       "L33.AAAGTAGGTTCATGGT-1      Early EMT-1\n",
       "L33.AACCATGCAGCATACT-1  High plasticity\n",
       "...                                 ...\n",
       "L33.TTTCCTCAGTCCCACG-1         AT1-like\n",
       "L33.TTTCCTCAGTCTCCTC-1      Early EMT-1\n",
       "L33.TTTCCTCCACCCATTC-1    Endoderm-like\n",
       "L33.TTTGCGCTCACTCCTG-1         AT1-like\n",
       "L33.TTTGGTTTCATAACCG-1  High plasticity\n",
       "\n",
       "[604 rows x 1 columns]"
      ]
     },
     "execution_count": 52,
     "metadata": {},
     "output_type": "execute_result"
    }
   ],
   "source": [
    "with open(f'{data_path}/preprocessed/{name}_cells.txt') as f:\n",
    "  labels = np.array(f.read().splitlines())\n",
    "cell_types = pd.DataFrame(labels, columns=['Cell names']).set_index('Cell names')\n",
    "cell_types = cell_types.join(adata.obs['Cluster-Name'])\n",
    "assert (labels == cell_types.index).all()  # check order\n",
    "cell_types"
   ]
  },
  {
   "cell_type": "code",
   "execution_count": 53,
   "metadata": {
    "colab": {
     "base_uri": "https://localhost:8080/"
    },
    "id": "kc2yg5eo5cuB",
    "outputId": "4d17c545-ea91-47eb-f8f4-0f97cf5d6387"
   },
   "outputs": [
    {
     "data": {
      "text/plain": [
       "High plasticity            204\n",
       "Gastric-like               150\n",
       "Early EMT-1                133\n",
       "AT1-like                    56\n",
       "Pre-EMT                     28\n",
       "AT2-like                    24\n",
       "Endoderm-like                7\n",
       "Early gastric                2\n",
       "Mesenchymal-2 (Met)          0\n",
       "Mesenchymal-2                0\n",
       "Lung progenitor-like         0\n",
       "Mesenchymal-1 (Met)          0\n",
       "Late Gastric                 0\n",
       "Early EMT-2                  0\n",
       "Mesenchymal-1                0\n",
       "Apc Mesenchymal-1 (Met)      0\n",
       "Apc Early                    0\n",
       "Apc Mesenchymal-2            0\n",
       "Lkb1 subtype                 0\n",
       "Name: Cluster-Name, dtype: int64"
      ]
     },
     "execution_count": 53,
     "metadata": {},
     "output_type": "execute_result"
    }
   ],
   "source": [
    "cell_types['Cluster-Name'].value_counts()"
   ]
  },
  {
   "cell_type": "code",
   "execution_count": 54,
   "metadata": {
    "id": "lbhUtTJ15cuB"
   },
   "outputs": [],
   "source": [
    "cell_types.to_csv(f'{data_path}/preprocessed/{name}_cell_types.txt', header=False, index=False)"
   ]
  },
  {
   "cell_type": "markdown",
   "metadata": {
    "id": "1FI2473O5o3B"
   },
   "source": [
    "# Tumor 3726_NT_T1"
   ]
  },
  {
   "cell_type": "code",
   "execution_count": 55,
   "metadata": {
    "id": "QoFV9qmW5o3M"
   },
   "outputs": [],
   "source": [
    "name = '3726_NT_T1'"
   ]
  },
  {
   "cell_type": "markdown",
   "metadata": {
    "id": "vcbwFsy35o3M"
   },
   "source": [
    "## Prune tree"
   ]
  },
  {
   "cell_type": "code",
   "execution_count": 56,
   "metadata": {
    "colab": {
     "base_uri": "https://localhost:8080/"
    },
    "id": "7BY9jxE-5o3M",
    "outputId": "9cb3dbd4-f9e5-4fd7-940a-ac8588bf85a5"
   },
   "outputs": [
    {
     "name": "stdout",
     "output_type": "stream",
     "text": [
      "height: 18.0\n"
     ]
    }
   ],
   "source": [
    "tree = dendropy.Tree.get(path=f'{data_path}/KPTracer-Data/trees/{name}_tree.nwk', schema='newick')\n",
    "for edge in tree.edges():\n",
    "  edge.length = 1\n",
    "print('height:', tree.max_distance_from_root())"
   ]
  },
  {
   "cell_type": "code",
   "execution_count": 57,
   "metadata": {
    "colab": {
     "base_uri": "https://localhost:8080/"
    },
    "id": "vHnA0Qz_5o3N",
    "outputId": "2bdb8f87-28f7-4321-f390-7755b993144d"
   },
   "outputs": [
    {
     "data": {
      "text/plain": [
       "0"
      ]
     },
     "execution_count": 57,
     "metadata": {},
     "output_type": "execute_result"
    }
   ],
   "source": [
    "tumor_meta = meta_df[(meta_df['Tumor'] == name) & meta_df['TS_Present'] & meta_df['RNA_Present']]\n",
    "tumor_adata = adata[adata.obs['Tumor'] == name]\n",
    "(tumor_meta['Unnamed: 0'].value_counts() != 1).sum()  # check that cells are unique"
   ]
  },
  {
   "cell_type": "code",
   "execution_count": 58,
   "metadata": {
    "colab": {
     "base_uri": "https://localhost:8080/"
    },
    "id": "HDy5QiLb5o3N",
    "outputId": "fcc161f3-2e7e-4521-ec2a-4fb18d448817"
   },
   "outputs": [
    {
     "name": "stdout",
     "output_type": "stream",
     "text": [
      "772 792 795\n",
      "meta but not tree (vice versa):  20 ( 0 )\n",
      "tree but not adata (vice versa):  19 ( 42 )\n",
      "meta but not adata (vice versa):  39 ( 42 )\n",
      "intersection:  753\n"
     ]
    }
   ],
   "source": [
    "# find intersection of cells in both modalities\n",
    "tree_cells = set([c.taxon.label for c in tree.leaf_nodes()])\n",
    "meta_cells = set(tumor_meta['Unnamed: 0'])\n",
    "adata_cells = set(tumor_adata.obs.index)\n",
    "print(len(tree_cells), len(meta_cells), len(adata_cells))\n",
    "print('meta but not tree (vice versa): ', len(meta_cells - tree_cells), '(', len(tree_cells - meta_cells), ')')\n",
    "print('tree but not adata (vice versa): ', len(tree_cells - adata_cells), '(', len(adata_cells - tree_cells), ')')\n",
    "print('meta but not adata (vice versa): ', len(meta_cells - adata_cells), '(', len(adata_cells - meta_cells), ')')\n",
    "\n",
    "intersect_cells = meta_cells\n",
    "intersect_cells -= intersect_cells - tree_cells\n",
    "intersect_cells -= intersect_cells - adata_cells\n",
    "print('intersection: ', len(intersect_cells))"
   ]
  },
  {
   "cell_type": "code",
   "execution_count": 59,
   "metadata": {
    "colab": {
     "base_uri": "https://localhost:8080/"
    },
    "id": "Y_2LaYsn5o3N",
    "outputId": "eaa43fcd-195f-4df1-813c-3d4c1cc2f4c1"
   },
   "outputs": [
    {
     "name": "stdout",
     "output_type": "stream",
     "text": [
      "height: 15.0\n",
      "leaves: 753\n"
     ]
    }
   ],
   "source": [
    "# prune tree\n",
    "tree.retain_taxa_with_labels(intersect_cells, suppress_unifurcations=True)\n",
    "for edge in tree.edges():\n",
    "  # set edge lengths to 1 again as we deleted some degree 1 nodes\n",
    "  edge.length = 1\n",
    "print('height:', tree.max_distance_from_root())\n",
    "print('leaves:', len(tree.leaf_nodes()))\n",
    "tree.write(path=f'{data_path}/preprocessed/{name}_pruned.nwk', schema='newick')"
   ]
  },
  {
   "cell_type": "code",
   "execution_count": 60,
   "metadata": {
    "colab": {
     "base_uri": "https://localhost:8080/"
    },
    "id": "KOL1Ly765o3N",
    "outputId": "d0348b79-41f3-445b-8518-c9d8d2fbcbf3"
   },
   "outputs": [
    {
     "data": {
      "text/plain": [
       "(array([ 0,  2,  3,  4,  5,  6,  7,  9, 12, 15, 22, 27, 33, 71, 72]),\n",
       " array([753, 214,  43,  16,   8,   7,   5,   2,   1,   2,   1,   1,   2,\n",
       "          1,   1]))"
      ]
     },
     "execution_count": 60,
     "metadata": {},
     "output_type": "execute_result"
    }
   ],
   "source": [
    "# get degrees of nodes:\n",
    "np.unique(list(map(lambda x: x.num_child_nodes(), tree.nodes())), return_counts=True)"
   ]
  },
  {
   "cell_type": "markdown",
   "metadata": {
    "id": "35Wvhy5z5o3N"
   },
   "source": [
    "## Gene expression pre-processing"
   ]
  },
  {
   "cell_type": "code",
   "execution_count": 61,
   "metadata": {
    "colab": {
     "base_uri": "https://localhost:8080/"
    },
    "id": "hDwWXJ-X5o3N",
    "outputId": "f556ada1-5796-4984-b6cb-bd46da0f5b21"
   },
   "outputs": [
    {
     "name": "stdout",
     "output_type": "stream",
     "text": [
      "(753, 4000)\n",
      "genes expressed in 10 or more cells: 705\n",
      "(753, 705)\n"
     ]
    }
   ],
   "source": [
    "pruned_adata = tumor_adata[tumor_adata.obs.index.isin(intersect_cells)]\n",
    "print(pruned_adata.X.shape)\n",
    "\n",
    "# remove rare genes\n",
    "keep = np.array((pruned_adata.X > 0).sum(axis=0) >= 10).flatten()\n",
    "print('genes expressed in 10 or more cells:', np.sum(keep))\n",
    "gene_names = adata.var_names[keep]\n",
    "gene_counts = pruned_adata.X[:, keep].toarray()\n",
    "print(gene_counts.shape)\n",
    "\n",
    "# L1 normalization on cells to [0, 10000]\n",
    "cell_sums = gene_counts.sum(axis=1)\n",
    "gene_counts[cell_sums > 0] = gene_counts[cell_sums > 0] / cell_sums[cell_sums > 0].reshape(-1, 1)\n",
    "gene_counts *= 10000\n",
    "# log2(1 + x) tranform\n",
    "gene_counts = np.log2(1 + gene_counts)"
   ]
  },
  {
   "cell_type": "code",
   "execution_count": 62,
   "metadata": {
    "id": "Gqz9wJdy5o3O"
   },
   "outputs": [],
   "source": [
    "# index is cell names\n",
    "pd.DataFrame(pruned_adata.obs.index).to_csv(f'{data_path}/preprocessed/{name}_cells.txt', index=False, columns=[0], header=False)"
   ]
  },
  {
   "cell_type": "code",
   "execution_count": 63,
   "metadata": {
    "id": "kZwo5bgE5o3O"
   },
   "outputs": [],
   "source": [
    "df = pd.DataFrame(gene_counts)\n",
    "df.columns = gene_names\n",
    "df.to_csv(f'{data_path}/preprocessed/{name}_normalized_log_counts.txt', index=False)"
   ]
  },
  {
   "cell_type": "markdown",
   "metadata": {
    "id": "X0vGcCye5o3O"
   },
   "source": [
    "## Cell types"
   ]
  },
  {
   "cell_type": "code",
   "execution_count": 64,
   "metadata": {
    "colab": {
     "base_uri": "https://localhost:8080/",
     "height": 455
    },
    "id": "CtjmT_Fo5o3O",
    "outputId": "4542ee3d-4102-4fff-8b59-9f394e7d9178"
   },
   "outputs": [
    {
     "data": {
      "text/html": [
       "<div>\n",
       "<style scoped>\n",
       "    .dataframe tbody tr th:only-of-type {\n",
       "        vertical-align: middle;\n",
       "    }\n",
       "\n",
       "    .dataframe tbody tr th {\n",
       "        vertical-align: top;\n",
       "    }\n",
       "\n",
       "    .dataframe thead th {\n",
       "        text-align: right;\n",
       "    }\n",
       "</style>\n",
       "<table border=\"1\" class=\"dataframe\">\n",
       "  <thead>\n",
       "    <tr style=\"text-align: right;\">\n",
       "      <th></th>\n",
       "      <th>Cluster-Name</th>\n",
       "    </tr>\n",
       "    <tr>\n",
       "      <th>Cell names</th>\n",
       "      <th></th>\n",
       "    </tr>\n",
       "  </thead>\n",
       "  <tbody>\n",
       "    <tr>\n",
       "      <th>L6.AAACCTGGTTTGCATG-1</th>\n",
       "      <td>Early EMT-1</td>\n",
       "    </tr>\n",
       "    <tr>\n",
       "      <th>L6.AAACGGGCAAGAGGCT-1</th>\n",
       "      <td>Early EMT-1</td>\n",
       "    </tr>\n",
       "    <tr>\n",
       "      <th>L6.AAACGGGCACCACCAG-1</th>\n",
       "      <td>Gastric-like</td>\n",
       "    </tr>\n",
       "    <tr>\n",
       "      <th>L6.AAAGATGCATCGGTTA-1</th>\n",
       "      <td>Early EMT-1</td>\n",
       "    </tr>\n",
       "    <tr>\n",
       "      <th>L6.AAAGCAAAGTTTAGGA-1</th>\n",
       "      <td>Early EMT-1</td>\n",
       "    </tr>\n",
       "    <tr>\n",
       "      <th>...</th>\n",
       "      <td>...</td>\n",
       "    </tr>\n",
       "    <tr>\n",
       "      <th>L6.TTTATGCTCGCCGTGA-1</th>\n",
       "      <td>Early EMT-1</td>\n",
       "    </tr>\n",
       "    <tr>\n",
       "      <th>L6.TTTGCGCAGCTCCTCT-1</th>\n",
       "      <td>Pre-EMT</td>\n",
       "    </tr>\n",
       "    <tr>\n",
       "      <th>L6.TTTGGTTCATGTAAGA-1</th>\n",
       "      <td>High plasticity</td>\n",
       "    </tr>\n",
       "    <tr>\n",
       "      <th>L6.TTTGGTTTCTGAGTGT-1</th>\n",
       "      <td>Early EMT-1</td>\n",
       "    </tr>\n",
       "    <tr>\n",
       "      <th>L6.TTTGTCACACATCCAA-1</th>\n",
       "      <td>Early EMT-1</td>\n",
       "    </tr>\n",
       "  </tbody>\n",
       "</table>\n",
       "<p>753 rows × 1 columns</p>\n",
       "</div>"
      ],
      "text/plain": [
       "                          Cluster-Name\n",
       "Cell names                            \n",
       "L6.AAACCTGGTTTGCATG-1      Early EMT-1\n",
       "L6.AAACGGGCAAGAGGCT-1      Early EMT-1\n",
       "L6.AAACGGGCACCACCAG-1     Gastric-like\n",
       "L6.AAAGATGCATCGGTTA-1      Early EMT-1\n",
       "L6.AAAGCAAAGTTTAGGA-1      Early EMT-1\n",
       "...                                ...\n",
       "L6.TTTATGCTCGCCGTGA-1      Early EMT-1\n",
       "L6.TTTGCGCAGCTCCTCT-1          Pre-EMT\n",
       "L6.TTTGGTTCATGTAAGA-1  High plasticity\n",
       "L6.TTTGGTTTCTGAGTGT-1      Early EMT-1\n",
       "L6.TTTGTCACACATCCAA-1      Early EMT-1\n",
       "\n",
       "[753 rows x 1 columns]"
      ]
     },
     "execution_count": 64,
     "metadata": {},
     "output_type": "execute_result"
    }
   ],
   "source": [
    "with open(f'{data_path}/preprocessed/{name}_cells.txt') as f:\n",
    "  labels = np.array(f.read().splitlines())\n",
    "cell_types = pd.DataFrame(labels, columns=['Cell names']).set_index('Cell names')\n",
    "cell_types = cell_types.join(adata.obs['Cluster-Name'])\n",
    "assert (labels == cell_types.index).all()  # check order\n",
    "cell_types"
   ]
  },
  {
   "cell_type": "code",
   "execution_count": 65,
   "metadata": {
    "colab": {
     "base_uri": "https://localhost:8080/"
    },
    "id": "c11gekBE5o3O",
    "outputId": "82eb0fb4-5093-442d-a171-8cf472a83e7f"
   },
   "outputs": [
    {
     "data": {
      "text/plain": [
       "Early EMT-1                333\n",
       "Pre-EMT                    143\n",
       "AT2-like                   103\n",
       "Lung progenitor-like        69\n",
       "High plasticity             31\n",
       "Gastric-like                29\n",
       "Endoderm-like               20\n",
       "AT1-like                    13\n",
       "Mesenchymal-2                7\n",
       "Early EMT-2                  4\n",
       "Mesenchymal-1                1\n",
       "Mesenchymal-2 (Met)          0\n",
       "Early gastric                0\n",
       "Mesenchymal-1 (Met)          0\n",
       "Late Gastric                 0\n",
       "Apc Mesenchymal-1 (Met)      0\n",
       "Apc Early                    0\n",
       "Apc Mesenchymal-2            0\n",
       "Lkb1 subtype                 0\n",
       "Name: Cluster-Name, dtype: int64"
      ]
     },
     "execution_count": 65,
     "metadata": {},
     "output_type": "execute_result"
    }
   ],
   "source": [
    "cell_types['Cluster-Name'].value_counts()"
   ]
  },
  {
   "cell_type": "code",
   "execution_count": 66,
   "metadata": {
    "id": "91D8NZV85o3O"
   },
   "outputs": [],
   "source": [
    "cell_types.to_csv(f'{data_path}/preprocessed/{name}_cell_types.txt', header=False, index=False)"
   ]
  },
  {
   "cell_type": "markdown",
   "metadata": {
    "id": "XlwD1jBO6A9d"
   },
   "source": [
    "# Tumor 3515_Lkb1_T1 and metastases"
   ]
  },
  {
   "cell_type": "code",
   "execution_count": 67,
   "metadata": {
    "id": "p5-nGLfv6A9t"
   },
   "outputs": [],
   "source": [
    "name = '3515_Lkb1_T1_Fam'\n",
    "prefix = '3515_Lkb1'"
   ]
  },
  {
   "cell_type": "markdown",
   "metadata": {
    "id": "7TgNWr8B6A9t"
   },
   "source": [
    "## Prune tree"
   ]
  },
  {
   "cell_type": "code",
   "execution_count": 68,
   "metadata": {
    "colab": {
     "base_uri": "https://localhost:8080/"
    },
    "id": "VYrzpYva6A9t",
    "outputId": "19c140c2-c97b-47f2-a10e-1fad7c748868"
   },
   "outputs": [
    {
     "name": "stdout",
     "output_type": "stream",
     "text": [
      "height: 23.0\n"
     ]
    }
   ],
   "source": [
    "tree = dendropy.Tree.get(path=f'{data_path}/KPTracer-Data/trees/{name}_tree.nwk', schema='newick')\n",
    "for edge in tree.edges():\n",
    "  edge.length = 1\n",
    "print('height:', tree.max_distance_from_root())"
   ]
  },
  {
   "cell_type": "code",
   "execution_count": 69,
   "metadata": {
    "colab": {
     "base_uri": "https://localhost:8080/"
    },
    "id": "I7ALM-9g6A9u",
    "outputId": "c4ddd7da-d2f2-464f-df26-ef93d791fc86"
   },
   "outputs": [
    {
     "data": {
      "text/plain": [
       "0"
      ]
     },
     "execution_count": 69,
     "metadata": {},
     "output_type": "execute_result"
    }
   ],
   "source": [
    "tumor_meta = meta_df[meta_df['Tumor'].str.startswith(prefix) & meta_df['TS_Present'] & meta_df['RNA_Present']]\n",
    "tumor_adata = adata[adata.obs['Tumor'].str.startswith(prefix)]\n",
    "(tumor_meta['Unnamed: 0'].value_counts() != 1).sum()  # check that cells are unique"
   ]
  },
  {
   "cell_type": "code",
   "execution_count": 70,
   "metadata": {
    "colab": {
     "base_uri": "https://localhost:8080/"
    },
    "id": "sLBHFjP66A9u",
    "outputId": "2b3683e3-725c-4d68-f041-5da38a6b0e65"
   },
   "outputs": [
    {
     "name": "stdout",
     "output_type": "stream",
     "text": [
      "1878 2229 2708\n",
      "meta but not tree (vice versa):  351 ( 0 )\n",
      "tree but not adata (vice versa):  0 ( 830 )\n",
      "meta but not adata (vice versa):  20 ( 499 )\n",
      "intersection:  1878\n"
     ]
    }
   ],
   "source": [
    "# find intersection of cells in both modalities\n",
    "tree_cells = set([c.taxon.label for c in tree.leaf_nodes()])\n",
    "meta_cells = set(tumor_meta['Unnamed: 0'])\n",
    "adata_cells = set(tumor_adata.obs.index)\n",
    "print(len(tree_cells), len(meta_cells), len(adata_cells))\n",
    "print('meta but not tree (vice versa): ', len(meta_cells - tree_cells), '(', len(tree_cells - meta_cells), ')')\n",
    "print('tree but not adata (vice versa): ', len(tree_cells - adata_cells), '(', len(adata_cells - tree_cells), ')')\n",
    "print('meta but not adata (vice versa): ', len(meta_cells - adata_cells), '(', len(adata_cells - meta_cells), ')')\n",
    "\n",
    "intersect_cells = meta_cells\n",
    "intersect_cells -= intersect_cells - tree_cells\n",
    "intersect_cells -= intersect_cells - adata_cells\n",
    "print('intersection: ', len(intersect_cells))"
   ]
  },
  {
   "cell_type": "code",
   "execution_count": 71,
   "metadata": {
    "colab": {
     "base_uri": "https://localhost:8080/"
    },
    "id": "t11Q8bz-6A9v",
    "outputId": "dda95a5c-e02b-4d94-97ee-631346a09bfe"
   },
   "outputs": [
    {
     "name": "stdout",
     "output_type": "stream",
     "text": [
      "height: 22.0\n",
      "leaves: 1878\n"
     ]
    }
   ],
   "source": [
    "# prune tree\n",
    "tree.retain_taxa_with_labels(intersect_cells, suppress_unifurcations=True)\n",
    "for edge in tree.edges():\n",
    "  # set edge lengths to 1 again as we deleted some degree 1 nodes\n",
    "  edge.length = 1\n",
    "print('height:', tree.max_distance_from_root())\n",
    "print('leaves:', len(tree.leaf_nodes()))\n",
    "tree.write(path=f'{data_path}/preprocessed/{name}_pruned.nwk', schema='newick')"
   ]
  },
  {
   "cell_type": "code",
   "execution_count": 72,
   "metadata": {
    "colab": {
     "base_uri": "https://localhost:8080/"
    },
    "id": "XxZXmcbi6A9v",
    "outputId": "e6484a9d-079b-4080-effe-8443844c3c85"
   },
   "outputs": [
    {
     "data": {
      "text/plain": [
       "(array([  0,   2,   3,   4,   5,   6,   7,   8,   9,  10,  11,  12,  13,\n",
       "         14,  15,  17,  19,  20,  21,  27,  31,  33,  34,  44,  60, 174,\n",
       "        283]),\n",
       " array([1878,  362,   79,   36,   26,   17,   10,   13,    5,    3,    1,\n",
       "           2,    1,    1,    1,    1,    1,    1,    2,    1,    1,    1,\n",
       "           1,    1,    1,    1,    1]))"
      ]
     },
     "execution_count": 72,
     "metadata": {},
     "output_type": "execute_result"
    }
   ],
   "source": [
    "# get degrees of nodes:\n",
    "np.unique(list(map(lambda x: x.num_child_nodes(), tree.nodes())), return_counts=True)"
   ]
  },
  {
   "cell_type": "markdown",
   "metadata": {
    "id": "NHtShg7p6A9v"
   },
   "source": [
    "## Gene expression pre-processing"
   ]
  },
  {
   "cell_type": "code",
   "execution_count": 73,
   "metadata": {
    "colab": {
     "base_uri": "https://localhost:8080/"
    },
    "id": "2y0kRe1M6A9v",
    "outputId": "7049a7a2-810b-437b-d8a8-e80d942416ee"
   },
   "outputs": [
    {
     "name": "stdout",
     "output_type": "stream",
     "text": [
      "(1878, 4000)\n",
      "genes expressed in 10 or more cells: 717\n",
      "(1878, 717)\n"
     ]
    }
   ],
   "source": [
    "pruned_adata = tumor_adata[tumor_adata.obs.index.isin(intersect_cells)]\n",
    "print(pruned_adata.X.shape)\n",
    "\n",
    "# remove rare genes\n",
    "keep = np.array((pruned_adata.X > 0).sum(axis=0) >= 10).flatten()\n",
    "print('genes expressed in 10 or more cells:', np.sum(keep))\n",
    "gene_names = adata.var_names[keep]\n",
    "gene_counts = pruned_adata.X[:, keep].toarray()\n",
    "print(gene_counts.shape)\n",
    "\n",
    "# L1 normalization on cells to [0, 10000]\n",
    "cell_sums = gene_counts.sum(axis=1)\n",
    "gene_counts[cell_sums > 0] = gene_counts[cell_sums > 0] / cell_sums[cell_sums > 0].reshape(-1, 1)\n",
    "gene_counts *= 10000\n",
    "# log2(1 + x) tranform\n",
    "gene_counts = np.log2(1 + gene_counts)"
   ]
  },
  {
   "cell_type": "code",
   "execution_count": 74,
   "metadata": {
    "id": "26Kc4tJ26A9v"
   },
   "outputs": [],
   "source": [
    "# index is cell names\n",
    "pd.DataFrame(pruned_adata.obs.index).to_csv(f'{data_path}/preprocessed/{name}_cells.txt', index=False, columns=[0], header=False)\n",
    "\n",
    "# tumor association\n",
    "tumor_meta.set_index('Unnamed: 0').loc[pruned_adata.obs.index].to_csv(\n",
    "    f'{data_path}/preprocessed/{name}_tumors.txt', index=False, columns=['Tumor'], header=False)"
   ]
  },
  {
   "cell_type": "code",
   "execution_count": 75,
   "metadata": {
    "id": "9tC51s4P6A9w"
   },
   "outputs": [],
   "source": [
    "df = pd.DataFrame(gene_counts)\n",
    "df.columns = gene_names\n",
    "df.to_csv(f'{data_path}/preprocessed/{name}_normalized_log_counts.txt', index=False)"
   ]
  },
  {
   "cell_type": "markdown",
   "metadata": {
    "id": "AybUg3nl6A9w"
   },
   "source": [
    "## Cell types"
   ]
  },
  {
   "cell_type": "code",
   "execution_count": 76,
   "metadata": {
    "colab": {
     "base_uri": "https://localhost:8080/",
     "height": 455
    },
    "id": "237Hyp7u6A9w",
    "outputId": "6d52972b-e275-48cc-dfa9-495029b6866e"
   },
   "outputs": [
    {
     "data": {
      "text/html": [
       "<div>\n",
       "<style scoped>\n",
       "    .dataframe tbody tr th:only-of-type {\n",
       "        vertical-align: middle;\n",
       "    }\n",
       "\n",
       "    .dataframe tbody tr th {\n",
       "        vertical-align: top;\n",
       "    }\n",
       "\n",
       "    .dataframe thead th {\n",
       "        text-align: right;\n",
       "    }\n",
       "</style>\n",
       "<table border=\"1\" class=\"dataframe\">\n",
       "  <thead>\n",
       "    <tr style=\"text-align: right;\">\n",
       "      <th></th>\n",
       "      <th>Cluster-Name</th>\n",
       "    </tr>\n",
       "    <tr>\n",
       "      <th>Cell names</th>\n",
       "      <th></th>\n",
       "    </tr>\n",
       "  </thead>\n",
       "  <tbody>\n",
       "    <tr>\n",
       "      <th>L18.AAACCTGTCGGATGTT-1</th>\n",
       "      <td>AT2-like</td>\n",
       "    </tr>\n",
       "    <tr>\n",
       "      <th>L18.AAACGGGAGCGACGTA-1</th>\n",
       "      <td>Pre-EMT</td>\n",
       "    </tr>\n",
       "    <tr>\n",
       "      <th>L18.AAACGGGCAAGAGTCG-1</th>\n",
       "      <td>Pre-EMT</td>\n",
       "    </tr>\n",
       "    <tr>\n",
       "      <th>L18.AAAGTAGTCCGCATCT-1</th>\n",
       "      <td>Pre-EMT</td>\n",
       "    </tr>\n",
       "    <tr>\n",
       "      <th>L18.AAAGTAGTCGAATGGG-1</th>\n",
       "      <td>Endoderm-like</td>\n",
       "    </tr>\n",
       "    <tr>\n",
       "      <th>...</th>\n",
       "      <td>...</td>\n",
       "    </tr>\n",
       "    <tr>\n",
       "      <th>L19.TTTGGTTGTCAAACTC-1</th>\n",
       "      <td>Pre-EMT</td>\n",
       "    </tr>\n",
       "    <tr>\n",
       "      <th>L19.TTTGGTTGTGCGGTAA-1</th>\n",
       "      <td>Pre-EMT</td>\n",
       "    </tr>\n",
       "    <tr>\n",
       "      <th>L19.TTTGGTTTCAGCTCGG-1</th>\n",
       "      <td>Pre-EMT</td>\n",
       "    </tr>\n",
       "    <tr>\n",
       "      <th>L19.TTTGTCACAGGATCGA-1</th>\n",
       "      <td>Pre-EMT</td>\n",
       "    </tr>\n",
       "    <tr>\n",
       "      <th>L19.TTTGTCATCCTACAGA-1</th>\n",
       "      <td>Pre-EMT</td>\n",
       "    </tr>\n",
       "  </tbody>\n",
       "</table>\n",
       "<p>1878 rows × 1 columns</p>\n",
       "</div>"
      ],
      "text/plain": [
       "                         Cluster-Name\n",
       "Cell names                           \n",
       "L18.AAACCTGTCGGATGTT-1       AT2-like\n",
       "L18.AAACGGGAGCGACGTA-1        Pre-EMT\n",
       "L18.AAACGGGCAAGAGTCG-1        Pre-EMT\n",
       "L18.AAAGTAGTCCGCATCT-1        Pre-EMT\n",
       "L18.AAAGTAGTCGAATGGG-1  Endoderm-like\n",
       "...                               ...\n",
       "L19.TTTGGTTGTCAAACTC-1        Pre-EMT\n",
       "L19.TTTGGTTGTGCGGTAA-1        Pre-EMT\n",
       "L19.TTTGGTTTCAGCTCGG-1        Pre-EMT\n",
       "L19.TTTGTCACAGGATCGA-1        Pre-EMT\n",
       "L19.TTTGTCATCCTACAGA-1        Pre-EMT\n",
       "\n",
       "[1878 rows x 1 columns]"
      ]
     },
     "execution_count": 76,
     "metadata": {},
     "output_type": "execute_result"
    }
   ],
   "source": [
    "with open(f'{data_path}/preprocessed/{name}_cells.txt') as f:\n",
    "  labels = np.array(f.read().splitlines())\n",
    "cell_types = pd.DataFrame(labels, columns=['Cell names']).set_index('Cell names')\n",
    "cell_types = cell_types.join(adata.obs['Cluster-Name'])\n",
    "assert (labels == cell_types.index).all()  # check order\n",
    "cell_types"
   ]
  },
  {
   "cell_type": "code",
   "execution_count": 77,
   "metadata": {
    "colab": {
     "base_uri": "https://localhost:8080/"
    },
    "id": "nUvyt2RL6A9x",
    "outputId": "4f93ec1b-2562-4894-c6ce-46cd6b1a0a50"
   },
   "outputs": [
    {
     "data": {
      "text/plain": [
       "Pre-EMT                    1669\n",
       "Endoderm-like                55\n",
       "AT2-like                     42\n",
       "Lkb1 subtype                 26\n",
       "Early EMT-1                  17\n",
       "Lung progenitor-like         13\n",
       "Early EMT-2                  12\n",
       "Mesenchymal-2 (Met)           9\n",
       "AT1-like                      9\n",
       "Mesenchymal-2                 7\n",
       "High plasticity               6\n",
       "Late Gastric                  6\n",
       "Gastric-like                  3\n",
       "Apc Early                     3\n",
       "Early gastric                 1\n",
       "Mesenchymal-1 (Met)           0\n",
       "Apc Mesenchymal-1 (Met)       0\n",
       "Apc Mesenchymal-2             0\n",
       "Mesenchymal-1                 0\n",
       "Name: Cluster-Name, dtype: int64"
      ]
     },
     "execution_count": 77,
     "metadata": {},
     "output_type": "execute_result"
    }
   ],
   "source": [
    "cell_types['Cluster-Name'].value_counts()"
   ]
  },
  {
   "cell_type": "code",
   "execution_count": 78,
   "metadata": {
    "id": "yxy6pu9h6A9x"
   },
   "outputs": [],
   "source": [
    "cell_types.to_csv(f'{data_path}/preprocessed/{name}_cell_types.txt', header=False, index=False)"
   ]
  },
  {
   "cell_type": "markdown",
   "metadata": {
    "id": "w_1keezB6nEs"
   },
   "source": [
    "# Tumor 3457_Apc_T1 and metastases"
   ]
  },
  {
   "cell_type": "code",
   "execution_count": 79,
   "metadata": {
    "id": "TNw710526nE9"
   },
   "outputs": [],
   "source": [
    "name = '3457_Apc_T1_Fam'\n",
    "prefix = '3457_Apc'"
   ]
  },
  {
   "cell_type": "markdown",
   "metadata": {
    "id": "fKTU1y9n6nE9"
   },
   "source": [
    "## Prune tree"
   ]
  },
  {
   "cell_type": "code",
   "execution_count": 80,
   "metadata": {
    "colab": {
     "base_uri": "https://localhost:8080/"
    },
    "id": "jcIMu_rH6nE9",
    "outputId": "1a0a19e6-45d8-47bc-8802-81382bc313fd"
   },
   "outputs": [
    {
     "name": "stdout",
     "output_type": "stream",
     "text": [
      "height: 18.0\n"
     ]
    }
   ],
   "source": [
    "tree = dendropy.Tree.get(path=f'{data_path}/KPTracer-Data/trees/{name}_tree.nwk', schema='newick')\n",
    "for edge in tree.edges():\n",
    "  edge.length = 1\n",
    "print('height:', tree.max_distance_from_root())"
   ]
  },
  {
   "cell_type": "code",
   "execution_count": 81,
   "metadata": {
    "colab": {
     "base_uri": "https://localhost:8080/"
    },
    "id": "jn06QoBt6nE9",
    "outputId": "7dd47266-3579-4be9-e664-12726f23b6d9"
   },
   "outputs": [
    {
     "data": {
      "text/plain": [
       "0"
      ]
     },
     "execution_count": 81,
     "metadata": {},
     "output_type": "execute_result"
    }
   ],
   "source": [
    "tumor_meta = meta_df[meta_df['Tumor'].str.startswith(prefix) & meta_df['TS_Present'] & meta_df['RNA_Present']]\n",
    "tumor_adata = adata[adata.obs['Tumor'].str.startswith(prefix)]\n",
    "(tumor_meta['Unnamed: 0'].value_counts() != 1).sum()  # check that cells are unique"
   ]
  },
  {
   "cell_type": "code",
   "execution_count": 82,
   "metadata": {
    "colab": {
     "base_uri": "https://localhost:8080/"
    },
    "id": "nc4W4Zzq6nE-",
    "outputId": "e39b698c-f3c7-42ab-f5c7-6bef188e808a"
   },
   "outputs": [
    {
     "name": "stdout",
     "output_type": "stream",
     "text": [
      "890 2172 2250\n",
      "meta but not tree (vice versa):  1282 ( 0 )\n",
      "tree but not adata (vice versa):  5 ( 1365 )\n",
      "meta but not adata (vice versa):  18 ( 96 )\n",
      "intersection:  885\n"
     ]
    }
   ],
   "source": [
    "# find intersection of cells in both modalities\n",
    "tree_cells = set([c.taxon.label for c in tree.leaf_nodes()])\n",
    "meta_cells = set(tumor_meta['Unnamed: 0'])\n",
    "adata_cells = set(tumor_adata.obs.index)\n",
    "print(len(tree_cells), len(meta_cells), len(adata_cells))\n",
    "print('meta but not tree (vice versa): ', len(meta_cells - tree_cells), '(', len(tree_cells - meta_cells), ')')\n",
    "print('tree but not adata (vice versa): ', len(tree_cells - adata_cells), '(', len(adata_cells - tree_cells), ')')\n",
    "print('meta but not adata (vice versa): ', len(meta_cells - adata_cells), '(', len(adata_cells - meta_cells), ')')\n",
    "\n",
    "intersect_cells = meta_cells\n",
    "intersect_cells -= intersect_cells - tree_cells\n",
    "intersect_cells -= intersect_cells - adata_cells\n",
    "print('intersection: ', len(intersect_cells))"
   ]
  },
  {
   "cell_type": "code",
   "execution_count": 83,
   "metadata": {
    "colab": {
     "base_uri": "https://localhost:8080/"
    },
    "id": "8jFqlYCs6nE-",
    "outputId": "abff5daf-e047-43db-80ba-4615fef7dd07"
   },
   "outputs": [
    {
     "name": "stdout",
     "output_type": "stream",
     "text": [
      "height: 15.0\n",
      "leaves: 885\n"
     ]
    }
   ],
   "source": [
    "# prune tree\n",
    "tree.retain_taxa_with_labels(intersect_cells, suppress_unifurcations=True)\n",
    "for edge in tree.edges():\n",
    "  # set edge lengths to 1 again as we deleted some degree 1 nodes\n",
    "  edge.length = 1\n",
    "print('height:', tree.max_distance_from_root())\n",
    "print('leaves:', len(tree.leaf_nodes()))\n",
    "tree.write(path=f'{data_path}/preprocessed/{name}_pruned.nwk', schema='newick')"
   ]
  },
  {
   "cell_type": "code",
   "execution_count": 84,
   "metadata": {
    "colab": {
     "base_uri": "https://localhost:8080/"
    },
    "id": "VUEYBkYL6nE-",
    "outputId": "3f80c12b-5044-4723-f06e-c7569cca7c27"
   },
   "outputs": [
    {
     "data": {
      "text/plain": [
       "(array([ 0,  2,  3,  4,  5,  6,  7,  8, 11, 12, 14, 15, 19, 22, 24, 25, 28,\n",
       "        37, 40, 43, 53, 66, 74, 86]),\n",
       " array([885,  85,  37,   7,  10,   8,   2,   4,   1,   1,   2,   1,   2,\n",
       "          1,   1,   1,   1,   1,   1,   1,   1,   1,   1,   1]))"
      ]
     },
     "execution_count": 84,
     "metadata": {},
     "output_type": "execute_result"
    }
   ],
   "source": [
    "# get degrees of nodes:\n",
    "np.unique(list(map(lambda x: x.num_child_nodes(), tree.nodes())), return_counts=True)"
   ]
  },
  {
   "cell_type": "markdown",
   "metadata": {
    "id": "mkN5d3dT6nE-"
   },
   "source": [
    "## Gene expression pre-processing"
   ]
  },
  {
   "cell_type": "code",
   "execution_count": 85,
   "metadata": {
    "colab": {
     "base_uri": "https://localhost:8080/"
    },
    "id": "RYxe6rEf6nE-",
    "outputId": "782165de-28f9-40ed-c36c-1a65f5a5ed04"
   },
   "outputs": [
    {
     "name": "stdout",
     "output_type": "stream",
     "text": [
      "(885, 4000)\n",
      "genes expressed in 10 or more cells: 615\n",
      "(885, 615)\n"
     ]
    }
   ],
   "source": [
    "pruned_adata = tumor_adata[tumor_adata.obs.index.isin(intersect_cells)]\n",
    "print(pruned_adata.X.shape)\n",
    "\n",
    "# remove rare genes\n",
    "keep = np.array((pruned_adata.X > 0).sum(axis=0) >= 10).flatten()\n",
    "print('genes expressed in 10 or more cells:', np.sum(keep))\n",
    "gene_names = adata.var_names[keep]\n",
    "gene_counts = pruned_adata.X[:, keep].toarray()\n",
    "print(gene_counts.shape)\n",
    "\n",
    "# L1 normalization on cells to [0, 10000]\n",
    "cell_sums = gene_counts.sum(axis=1)\n",
    "gene_counts[cell_sums > 0] = gene_counts[cell_sums > 0] / cell_sums[cell_sums > 0].reshape(-1, 1)\n",
    "gene_counts *= 10000\n",
    "# log2(1 + x) tranform\n",
    "gene_counts = np.log2(1 + gene_counts)"
   ]
  },
  {
   "cell_type": "code",
   "execution_count": 86,
   "metadata": {
    "id": "gKoF8iLm6nE_"
   },
   "outputs": [],
   "source": [
    "# index is cell names\n",
    "pd.DataFrame(pruned_adata.obs.index).to_csv(f'{data_path}/preprocessed/{name}_cells.txt', index=False, columns=[0], header=False)\n",
    "\n",
    "# tumor association\n",
    "tumor_meta.set_index('Unnamed: 0').loc[pruned_adata.obs.index].to_csv(\n",
    "    f'{data_path}/preprocessed/{name}_tumors.txt', index=False, columns=['Tumor'], header=False)"
   ]
  },
  {
   "cell_type": "code",
   "execution_count": 87,
   "metadata": {
    "id": "niqnhz996nE_"
   },
   "outputs": [],
   "source": [
    "df = pd.DataFrame(gene_counts)\n",
    "df.columns = gene_names\n",
    "df.to_csv(f'{data_path}/preprocessed/{name}_normalized_log_counts.txt', index=False)"
   ]
  },
  {
   "cell_type": "markdown",
   "metadata": {
    "id": "eJ7D42ye6nE_"
   },
   "source": [
    "## Cell types"
   ]
  },
  {
   "cell_type": "code",
   "execution_count": 88,
   "metadata": {
    "colab": {
     "base_uri": "https://localhost:8080/",
     "height": 455
    },
    "id": "Tgwn-FaH6nE_",
    "outputId": "33536a3b-7547-4498-ed9a-3a0678b71099"
   },
   "outputs": [
    {
     "data": {
      "text/html": [
       "<div>\n",
       "<style scoped>\n",
       "    .dataframe tbody tr th:only-of-type {\n",
       "        vertical-align: middle;\n",
       "    }\n",
       "\n",
       "    .dataframe tbody tr th {\n",
       "        vertical-align: top;\n",
       "    }\n",
       "\n",
       "    .dataframe thead th {\n",
       "        text-align: right;\n",
       "    }\n",
       "</style>\n",
       "<table border=\"1\" class=\"dataframe\">\n",
       "  <thead>\n",
       "    <tr style=\"text-align: right;\">\n",
       "      <th></th>\n",
       "      <th>Cluster-Name</th>\n",
       "    </tr>\n",
       "    <tr>\n",
       "      <th>Cell names</th>\n",
       "      <th></th>\n",
       "    </tr>\n",
       "  </thead>\n",
       "  <tbody>\n",
       "    <tr>\n",
       "      <th>L35.AAACCTGTCTCGTTTA-1</th>\n",
       "      <td>Apc Early</td>\n",
       "    </tr>\n",
       "    <tr>\n",
       "      <th>L35.AAACCTGTCTTGTCAT-1</th>\n",
       "      <td>Early EMT-1</td>\n",
       "    </tr>\n",
       "    <tr>\n",
       "      <th>L35.AAACGGGCAATCTGCA-1</th>\n",
       "      <td>Apc Early</td>\n",
       "    </tr>\n",
       "    <tr>\n",
       "      <th>L35.AAACGGGCACATGTGT-1</th>\n",
       "      <td>Early EMT-1</td>\n",
       "    </tr>\n",
       "    <tr>\n",
       "      <th>L35.AAAGATGGTCAAGCGA-1</th>\n",
       "      <td>Apc Mesenchymal-1 (Met)</td>\n",
       "    </tr>\n",
       "    <tr>\n",
       "      <th>...</th>\n",
       "      <td>...</td>\n",
       "    </tr>\n",
       "    <tr>\n",
       "      <th>L36.TTCGGTCTCGGCTACG-1</th>\n",
       "      <td>Pre-EMT</td>\n",
       "    </tr>\n",
       "    <tr>\n",
       "      <th>L36.TTCTCAACATTAGCCA-1</th>\n",
       "      <td>Pre-EMT</td>\n",
       "    </tr>\n",
       "    <tr>\n",
       "      <th>L36.TTCTTAGAGTGAACAT-1</th>\n",
       "      <td>Pre-EMT</td>\n",
       "    </tr>\n",
       "    <tr>\n",
       "      <th>L36.TTGCGTCCATGCTGGC-1</th>\n",
       "      <td>Pre-EMT</td>\n",
       "    </tr>\n",
       "    <tr>\n",
       "      <th>L36.TTTACTGAGCCGATTT-1</th>\n",
       "      <td>AT2-like</td>\n",
       "    </tr>\n",
       "  </tbody>\n",
       "</table>\n",
       "<p>885 rows × 1 columns</p>\n",
       "</div>"
      ],
      "text/plain": [
       "                                   Cluster-Name\n",
       "Cell names                                     \n",
       "L35.AAACCTGTCTCGTTTA-1                Apc Early\n",
       "L35.AAACCTGTCTTGTCAT-1              Early EMT-1\n",
       "L35.AAACGGGCAATCTGCA-1                Apc Early\n",
       "L35.AAACGGGCACATGTGT-1              Early EMT-1\n",
       "L35.AAAGATGGTCAAGCGA-1  Apc Mesenchymal-1 (Met)\n",
       "...                                         ...\n",
       "L36.TTCGGTCTCGGCTACG-1                  Pre-EMT\n",
       "L36.TTCTCAACATTAGCCA-1                  Pre-EMT\n",
       "L36.TTCTTAGAGTGAACAT-1                  Pre-EMT\n",
       "L36.TTGCGTCCATGCTGGC-1                  Pre-EMT\n",
       "L36.TTTACTGAGCCGATTT-1                 AT2-like\n",
       "\n",
       "[885 rows x 1 columns]"
      ]
     },
     "execution_count": 88,
     "metadata": {},
     "output_type": "execute_result"
    }
   ],
   "source": [
    "with open(f'{data_path}/preprocessed/{name}_cells.txt') as f:\n",
    "  labels = np.array(f.read().splitlines())\n",
    "cell_types = pd.DataFrame(labels, columns=['Cell names']).set_index('Cell names')\n",
    "cell_types = cell_types.join(adata.obs['Cluster-Name'])\n",
    "assert (labels == cell_types.index).all()  # check order\n",
    "cell_types"
   ]
  },
  {
   "cell_type": "code",
   "execution_count": 89,
   "metadata": {
    "colab": {
     "base_uri": "https://localhost:8080/"
    },
    "id": "_AXQhoBx6nE_",
    "outputId": "fd7567b7-a161-4479-9af2-cc2e40a5f0f3"
   },
   "outputs": [
    {
     "data": {
      "text/plain": [
       "Apc Early                  264\n",
       "Early EMT-1                243\n",
       "Pre-EMT                    159\n",
       "AT2-like                    52\n",
       "Mesenchymal-1               49\n",
       "Early EMT-2                 28\n",
       "Apc Mesenchymal-1 (Met)     22\n",
       "Mesenchymal-2               21\n",
       "High plasticity             14\n",
       "Endoderm-like                9\n",
       "Mesenchymal-1 (Met)          8\n",
       "Gastric-like                 7\n",
       "AT1-like                     4\n",
       "Lung progenitor-like         2\n",
       "Late Gastric                 1\n",
       "Mesenchymal-2 (Met)          1\n",
       "Apc Mesenchymal-2            1\n",
       "Early gastric                0\n",
       "Lkb1 subtype                 0\n",
       "Name: Cluster-Name, dtype: int64"
      ]
     },
     "execution_count": 89,
     "metadata": {},
     "output_type": "execute_result"
    }
   ],
   "source": [
    "cell_types['Cluster-Name'].value_counts()"
   ]
  },
  {
   "cell_type": "code",
   "execution_count": 90,
   "metadata": {
    "id": "xdNVXrRF6nE_"
   },
   "outputs": [],
   "source": [
    "cell_types.to_csv(f'{data_path}/preprocessed/{name}_cell_types.txt', header=False, index=False)"
   ]
  }
 ],
 "metadata": {
  "colab": {
   "authorship_tag": "ABX9TyNt+C9KCjgjl6BG0FgXrb/5",
   "include_colab_link": true,
   "provenance": [],
   "toc_visible": true
  },
  "kernelspec": {
   "display_name": "Python 3 (ipykernel)",
   "language": "python",
   "name": "python3"
  },
  "language_info": {
   "codemirror_mode": {
    "name": "ipython",
    "version": 3
   },
   "file_extension": ".py",
   "mimetype": "text/x-python",
   "name": "python",
   "nbconvert_exporter": "python",
   "pygments_lexer": "ipython3",
   "version": "3.8.19"
  }
 },
 "nbformat": 4,
 "nbformat_minor": 1
}
